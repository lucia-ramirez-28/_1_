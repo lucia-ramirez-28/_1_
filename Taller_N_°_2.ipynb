{
  "nbformat": 4,
  "nbformat_minor": 0,
  "metadata": {
    "colab": {
      "provenance": []
    },
    "kernelspec": {
      "name": "python3",
      "display_name": "Python 3"
    },
    "language_info": {
      "name": "python"
    }
  },
  "cells": [
    {
      "cell_type": "markdown",
      "source": [
        "#Taller N ° 2\n",
        "###Finanzas computacionales\n",
        "###Integrantes\n",
        "####Gabriela Garbiras\n",
        "####Jimena Ramírez\n",
        "####Lucía Ramírez\n",
        "\n",
        "###Grupo\n",
        "####305I"
      ],
      "metadata": {
        "id": "GLNwoSBO4TpX"
      }
    },
    {
      "cell_type": "code",
      "source": [
        "# Librerías\n",
        "import numpy as np\n",
        "import pandas as pd\n",
        "import matplotlib.pyplot as plt\n",
        "from scipy.optimize import minimize\n",
        "from scipy.optimize import linprog\n",
        "import cvxpy as cp"
      ],
      "metadata": {
        "id": "mUqonuv2sC4s"
      },
      "execution_count": null,
      "outputs": []
    },
    {
      "cell_type": "markdown",
      "source": [
        "1- La empresa XYZ produce dos productos: A y B. La ganancia por unidad de A es de 3 dólares y de B es de 5 dólares. Para su producción dispone de 500 unidades de materia prima, 1000 unidades de mano de obra y 2000 dólares de capital, de los cuales se necesitan para producir una unidad de:\n",
        "##### i) A: una unidad de materia prima, dos unidades de mano de obra y una unidad de capital.\n",
        "##### ii) B: una unidad de materia prima, cuatro unidades de mano de obra y dos unidades de capital. Además, se necesita producir al menos 100 unidades de A y 150 unidades de B para satisfacer la demanda del mercado.\n",
        "Encuentre la asignación óptima de A y B que maximizan las ganancias de la empresa. Para ello, formule un problema de LP utilizando Scipy."
      ],
      "metadata": {
        "id": "vjEJczaD46YH"
      }
    },
    {
      "cell_type": "code",
      "source": [
        "mi # Función objetivo\n",
        "FO_pt1 = np.array([-3, -5])\n",
        "# Restricciones\n",
        "A_1 = np.array([[1, 1], [2, 4], [1, 2]])\n",
        "b_1 = np.array([500, 1000, 2000])\n",
        "bounds = ((100, None), (150, None))\n",
        "# Optimización\n",
        "Rta_pt1 = linprog(FO_pt1, A_ub=A_1, b_ub=b_1, bounds=bounds)\n",
        "pd.DataFrame(Rta_pt1.x).T"
      ],
      "metadata": {
        "id": "oszskTRn46Dn",
        "colab": {
          "base_uri": "https://localhost:8080/",
          "height": 81
        },
        "outputId": "3425692c-8064-4c91-8144-9a17bc181e8a"
      },
      "execution_count": null,
      "outputs": [
        {
          "output_type": "execute_result",
          "data": {
            "text/plain": [
              "       0      1\n",
              "0  200.0  150.0"
            ],
            "text/html": [
              "\n",
              "  <div id=\"df-19772060-1eee-46c2-ab85-7c6957f3143e\">\n",
              "    <div class=\"colab-df-container\">\n",
              "      <div>\n",
              "<style scoped>\n",
              "    .dataframe tbody tr th:only-of-type {\n",
              "        vertical-align: middle;\n",
              "    }\n",
              "\n",
              "    .dataframe tbody tr th {\n",
              "        vertical-align: top;\n",
              "    }\n",
              "\n",
              "    .dataframe thead th {\n",
              "        text-align: right;\n",
              "    }\n",
              "</style>\n",
              "<table border=\"1\" class=\"dataframe\">\n",
              "  <thead>\n",
              "    <tr style=\"text-align: right;\">\n",
              "      <th></th>\n",
              "      <th>0</th>\n",
              "      <th>1</th>\n",
              "    </tr>\n",
              "  </thead>\n",
              "  <tbody>\n",
              "    <tr>\n",
              "      <th>0</th>\n",
              "      <td>200.0</td>\n",
              "      <td>150.0</td>\n",
              "    </tr>\n",
              "  </tbody>\n",
              "</table>\n",
              "</div>\n",
              "      <button class=\"colab-df-convert\" onclick=\"convertToInteractive('df-19772060-1eee-46c2-ab85-7c6957f3143e')\"\n",
              "              title=\"Convert this dataframe to an interactive table.\"\n",
              "              style=\"display:none;\">\n",
              "        \n",
              "  <svg xmlns=\"http://www.w3.org/2000/svg\" height=\"24px\"viewBox=\"0 0 24 24\"\n",
              "       width=\"24px\">\n",
              "    <path d=\"M0 0h24v24H0V0z\" fill=\"none\"/>\n",
              "    <path d=\"M18.56 5.44l.94 2.06.94-2.06 2.06-.94-2.06-.94-.94-2.06-.94 2.06-2.06.94zm-11 1L8.5 8.5l.94-2.06 2.06-.94-2.06-.94L8.5 2.5l-.94 2.06-2.06.94zm10 10l.94 2.06.94-2.06 2.06-.94-2.06-.94-.94-2.06-.94 2.06-2.06.94z\"/><path d=\"M17.41 7.96l-1.37-1.37c-.4-.4-.92-.59-1.43-.59-.52 0-1.04.2-1.43.59L10.3 9.45l-7.72 7.72c-.78.78-.78 2.05 0 2.83L4 21.41c.39.39.9.59 1.41.59.51 0 1.02-.2 1.41-.59l7.78-7.78 2.81-2.81c.8-.78.8-2.07 0-2.86zM5.41 20L4 18.59l7.72-7.72 1.47 1.35L5.41 20z\"/>\n",
              "  </svg>\n",
              "      </button>\n",
              "      \n",
              "  <style>\n",
              "    .colab-df-container {\n",
              "      display:flex;\n",
              "      flex-wrap:wrap;\n",
              "      gap: 12px;\n",
              "    }\n",
              "\n",
              "    .colab-df-convert {\n",
              "      background-color: #E8F0FE;\n",
              "      border: none;\n",
              "      border-radius: 50%;\n",
              "      cursor: pointer;\n",
              "      display: none;\n",
              "      fill: #1967D2;\n",
              "      height: 32px;\n",
              "      padding: 0 0 0 0;\n",
              "      width: 32px;\n",
              "    }\n",
              "\n",
              "    .colab-df-convert:hover {\n",
              "      background-color: #E2EBFA;\n",
              "      box-shadow: 0px 1px 2px rgba(60, 64, 67, 0.3), 0px 1px 3px 1px rgba(60, 64, 67, 0.15);\n",
              "      fill: #174EA6;\n",
              "    }\n",
              "\n",
              "    [theme=dark] .colab-df-convert {\n",
              "      background-color: #3B4455;\n",
              "      fill: #D2E3FC;\n",
              "    }\n",
              "\n",
              "    [theme=dark] .colab-df-convert:hover {\n",
              "      background-color: #434B5C;\n",
              "      box-shadow: 0px 1px 3px 1px rgba(0, 0, 0, 0.15);\n",
              "      filter: drop-shadow(0px 1px 2px rgba(0, 0, 0, 0.3));\n",
              "      fill: #FFFFFF;\n",
              "    }\n",
              "  </style>\n",
              "\n",
              "      <script>\n",
              "        const buttonEl =\n",
              "          document.querySelector('#df-19772060-1eee-46c2-ab85-7c6957f3143e button.colab-df-convert');\n",
              "        buttonEl.style.display =\n",
              "          google.colab.kernel.accessAllowed ? 'block' : 'none';\n",
              "\n",
              "        async function convertToInteractive(key) {\n",
              "          const element = document.querySelector('#df-19772060-1eee-46c2-ab85-7c6957f3143e');\n",
              "          const dataTable =\n",
              "            await google.colab.kernel.invokeFunction('convertToInteractive',\n",
              "                                                     [key], {});\n",
              "          if (!dataTable) return;\n",
              "\n",
              "          const docLinkHtml = 'Like what you see? Visit the ' +\n",
              "            '<a target=\"_blank\" href=https://colab.research.google.com/notebooks/data_table.ipynb>data table notebook</a>'\n",
              "            + ' to learn more about interactive tables.';\n",
              "          element.innerHTML = '';\n",
              "          dataTable['output_type'] = 'display_data';\n",
              "          await google.colab.output.renderOutput(dataTable, element);\n",
              "          const docLink = document.createElement('div');\n",
              "          docLink.innerHTML = docLinkHtml;\n",
              "          element.appendChild(docLink);\n",
              "        }\n",
              "      </script>\n",
              "    </div>\n",
              "  </div>\n",
              "  "
            ]
          },
          "metadata": {},
          "execution_count": 2
        }
      ]
    },
    {
      "cell_type": "code",
      "source": [
        "# Ganancia total\n",
        "-Rta_pt1.fun"
      ],
      "metadata": {
        "colab": {
          "base_uri": "https://localhost:8080/"
        },
        "id": "c3AmVQ3SUAcn",
        "outputId": "cca334be-055b-4d2b-e388-fa3b35de171a"
      },
      "execution_count": null,
      "outputs": [
        {
          "output_type": "execute_result",
          "data": {
            "text/plain": [
              "1350.0"
            ]
          },
          "metadata": {},
          "execution_count": 3
        }
      ]
    },
    {
      "cell_type": "markdown",
      "source": [
        "2- Usted desea invertir la suma de $100 millones en cuatro fondos que tienen diferentes retornos esperados (E(R)), así como diferentes ponderaciones en acciones de alto valor, gran tamaño y alta liquidez, como muestra la siguiente tabla:\n",
        "\n",
        "#![image.png](data:image/png;base64,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)\n",
        "\n",
        "#####La asignación anterior debe contener al menos un 35% de acciones de alto valor, un 30% en tamaño y un 15% de acciones de liquidez. Encuentre una asignación factible con el retorno esperado más alto, bajo el supuesto de que solo se le permite mantener posiciones largas en los fondos.\n",
        "\n",
        "#####Formule y resuelva el problema de LP considerando las siguientes restricciones:\n",
        "\n",
        "#![image.png](data:image/png;base64,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)\n",
        "\n",
        "#####Nota: resuelva el problema anterior usando las librerías de Scipy y CVXPY de Python."
      ],
      "metadata": {
        "id": "IComMh-L5uri"
      }
    },
    {
      "cell_type": "code",
      "source": [
        "# Libreria scipy\n",
        "Fun_Obj = np.array([0.10, 0.15, 0.16, 0.08])\n",
        "Res_1 = np.array([[0.5, 0.3, 0.25, 0.6],[0.3, 0.1, 0.4, 0.2],[0.2, 0.6, 0.35, 0.2]])\n",
        "Res_2 = np.array([0.35, 0.30, 0.15])\n",
        "Res_3 = np.array([[1,1,1,1]])\n",
        "Res_4 = np.array([1])\n",
        "Rta_pt2 = linprog(-Fun_Obj, A_ub=-Res_1, b_ub=-Res_2, A_eq=Res_3, b_eq=Res_4, method='simplex')\n",
        "pd.DataFrame(Rta_pt2.x).round(4).T"
      ],
      "metadata": {
        "id": "FBuWBLVM5uC1",
        "colab": {
          "base_uri": "https://localhost:8080/",
          "height": 135
        },
        "outputId": "bb440346-2367-491a-a9c7-84f2b0384591"
      },
      "execution_count": null,
      "outputs": [
        {
          "output_type": "stream",
          "name": "stderr",
          "text": [
            "<ipython-input-4-662a6121a04e>:7: DeprecationWarning: `method='simplex'` is deprecated and will be removed in SciPy 1.11.0. Please use one of the HiGHS solvers (e.g. `method='highs'`) in new code.\n",
            "  Rta_pt2 = linprog(-Fun_Obj, A_ub=-Res_1, b_ub=-Res_2, A_eq=Res_3, b_eq=Res_4, method='simplex')\n"
          ]
        },
        {
          "output_type": "execute_result",
          "data": {
            "text/plain": [
              "     0       1       2       3\n",
              "0  0.0  0.1579  0.5789  0.2632"
            ],
            "text/html": [
              "\n",
              "  <div id=\"df-6cea2d2c-fdad-4679-b2df-89b60205b619\">\n",
              "    <div class=\"colab-df-container\">\n",
              "      <div>\n",
              "<style scoped>\n",
              "    .dataframe tbody tr th:only-of-type {\n",
              "        vertical-align: middle;\n",
              "    }\n",
              "\n",
              "    .dataframe tbody tr th {\n",
              "        vertical-align: top;\n",
              "    }\n",
              "\n",
              "    .dataframe thead th {\n",
              "        text-align: right;\n",
              "    }\n",
              "</style>\n",
              "<table border=\"1\" class=\"dataframe\">\n",
              "  <thead>\n",
              "    <tr style=\"text-align: right;\">\n",
              "      <th></th>\n",
              "      <th>0</th>\n",
              "      <th>1</th>\n",
              "      <th>2</th>\n",
              "      <th>3</th>\n",
              "    </tr>\n",
              "  </thead>\n",
              "  <tbody>\n",
              "    <tr>\n",
              "      <th>0</th>\n",
              "      <td>0.0</td>\n",
              "      <td>0.1579</td>\n",
              "      <td>0.5789</td>\n",
              "      <td>0.2632</td>\n",
              "    </tr>\n",
              "  </tbody>\n",
              "</table>\n",
              "</div>\n",
              "      <button class=\"colab-df-convert\" onclick=\"convertToInteractive('df-6cea2d2c-fdad-4679-b2df-89b60205b619')\"\n",
              "              title=\"Convert this dataframe to an interactive table.\"\n",
              "              style=\"display:none;\">\n",
              "        \n",
              "  <svg xmlns=\"http://www.w3.org/2000/svg\" height=\"24px\"viewBox=\"0 0 24 24\"\n",
              "       width=\"24px\">\n",
              "    <path d=\"M0 0h24v24H0V0z\" fill=\"none\"/>\n",
              "    <path d=\"M18.56 5.44l.94 2.06.94-2.06 2.06-.94-2.06-.94-.94-2.06-.94 2.06-2.06.94zm-11 1L8.5 8.5l.94-2.06 2.06-.94-2.06-.94L8.5 2.5l-.94 2.06-2.06.94zm10 10l.94 2.06.94-2.06 2.06-.94-2.06-.94-.94-2.06-.94 2.06-2.06.94z\"/><path d=\"M17.41 7.96l-1.37-1.37c-.4-.4-.92-.59-1.43-.59-.52 0-1.04.2-1.43.59L10.3 9.45l-7.72 7.72c-.78.78-.78 2.05 0 2.83L4 21.41c.39.39.9.59 1.41.59.51 0 1.02-.2 1.41-.59l7.78-7.78 2.81-2.81c.8-.78.8-2.07 0-2.86zM5.41 20L4 18.59l7.72-7.72 1.47 1.35L5.41 20z\"/>\n",
              "  </svg>\n",
              "      </button>\n",
              "      \n",
              "  <style>\n",
              "    .colab-df-container {\n",
              "      display:flex;\n",
              "      flex-wrap:wrap;\n",
              "      gap: 12px;\n",
              "    }\n",
              "\n",
              "    .colab-df-convert {\n",
              "      background-color: #E8F0FE;\n",
              "      border: none;\n",
              "      border-radius: 50%;\n",
              "      cursor: pointer;\n",
              "      display: none;\n",
              "      fill: #1967D2;\n",
              "      height: 32px;\n",
              "      padding: 0 0 0 0;\n",
              "      width: 32px;\n",
              "    }\n",
              "\n",
              "    .colab-df-convert:hover {\n",
              "      background-color: #E2EBFA;\n",
              "      box-shadow: 0px 1px 2px rgba(60, 64, 67, 0.3), 0px 1px 3px 1px rgba(60, 64, 67, 0.15);\n",
              "      fill: #174EA6;\n",
              "    }\n",
              "\n",
              "    [theme=dark] .colab-df-convert {\n",
              "      background-color: #3B4455;\n",
              "      fill: #D2E3FC;\n",
              "    }\n",
              "\n",
              "    [theme=dark] .colab-df-convert:hover {\n",
              "      background-color: #434B5C;\n",
              "      box-shadow: 0px 1px 3px 1px rgba(0, 0, 0, 0.15);\n",
              "      filter: drop-shadow(0px 1px 2px rgba(0, 0, 0, 0.3));\n",
              "      fill: #FFFFFF;\n",
              "    }\n",
              "  </style>\n",
              "\n",
              "      <script>\n",
              "        const buttonEl =\n",
              "          document.querySelector('#df-6cea2d2c-fdad-4679-b2df-89b60205b619 button.colab-df-convert');\n",
              "        buttonEl.style.display =\n",
              "          google.colab.kernel.accessAllowed ? 'block' : 'none';\n",
              "\n",
              "        async function convertToInteractive(key) {\n",
              "          const element = document.querySelector('#df-6cea2d2c-fdad-4679-b2df-89b60205b619');\n",
              "          const dataTable =\n",
              "            await google.colab.kernel.invokeFunction('convertToInteractive',\n",
              "                                                     [key], {});\n",
              "          if (!dataTable) return;\n",
              "\n",
              "          const docLinkHtml = 'Like what you see? Visit the ' +\n",
              "            '<a target=\"_blank\" href=https://colab.research.google.com/notebooks/data_table.ipynb>data table notebook</a>'\n",
              "            + ' to learn more about interactive tables.';\n",
              "          element.innerHTML = '';\n",
              "          dataTable['output_type'] = 'display_data';\n",
              "          await google.colab.output.renderOutput(dataTable, element);\n",
              "          const docLink = document.createElement('div');\n",
              "          docLink.innerHTML = docLinkHtml;\n",
              "          element.appendChild(docLink);\n",
              "        }\n",
              "      </script>\n",
              "    </div>\n",
              "  </div>\n",
              "  "
            ]
          },
          "metadata": {},
          "execution_count": 4
        }
      ]
    },
    {
      "cell_type": "code",
      "source": [
        "# Valor máximo\n",
        "-Rta_pt2.fun"
      ],
      "metadata": {
        "colab": {
          "base_uri": "https://localhost:8080/"
        },
        "id": "6IlaTG3BLKvG",
        "outputId": "0db20134-6aa0-4a24-aaa5-1ea45d94b76b"
      },
      "execution_count": null,
      "outputs": [
        {
          "output_type": "execute_result",
          "data": {
            "text/plain": [
              "0.13736842105263158"
            ]
          },
          "metadata": {},
          "execution_count": 5
        }
      ]
    },
    {
      "cell_type": "code",
      "source": [
        "# Librería CVXPY\n",
        "n = 4\n",
        "x = cp.Variable(n)\n",
        "objetivo = cp.Minimize(-Fun_Obj.T@x)\n",
        "restricciones = [Res_1 @ x >= Res_2, cp.sum(x) == 1, x >= 0]\n",
        "prob = cp.Problem(objetivo, restricciones)\n",
        "prob.solve()\n",
        "Rta_pt2_2= x.value\n",
        "print(round(pd.DataFrame(Rta_pt2_2).T,4))"
      ],
      "metadata": {
        "colab": {
          "base_uri": "https://localhost:8080/"
        },
        "id": "BbgkwI-k_ldv",
        "outputId": "3904f695-50f2-4810-c0f0-4004c59dfd17"
      },
      "execution_count": null,
      "outputs": [
        {
          "output_type": "stream",
          "name": "stdout",
          "text": [
            "     0       1       2       3\n",
            "0  0.0  0.1579  0.5789  0.2632\n"
          ]
        }
      ]
    },
    {
      "cell_type": "markdown",
      "source": [
        "3- La empresa XYZ se enfrente al siguiente problema de manejo de efectivo. Las cifras están expresadas en millones ($).\n",
        "\n",
        "![image.png](data:image/png;base64,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)\n",
        "\n",
        "Además, se sabe que la empresa cuenta con las siguientes fuentes de recursos:\n",
        "\n",
        "\n",
        "*   Una línea de crédito de hasta $100 a una tasa de interés del 1% mensual.\n",
        "*   Puede emitir papel comercial a 90 días con un interés total del 2% por un período de 3 meses.\n",
        "*   Todos los meses se pueden invertir los fondos sobrantes a una tasa de interés del 0,3% mensual. Por ejemplo, la empresa podría hacer un depósito bancario que le reconoce esa tasa.\n",
        "\n",
        "Sobre este problema, la empresa desea saber si: ¿usar la línea de crédito en algunos de los meses le representa un alto costo? si es así ¿cuándo debería usarla? ¿cuánto cuesta? ¿qué pagos de intereses tendrá que hacer entre enero y junio? etc... Para responder a estos interrogantes, la empresa puede formular y resolver un problema de LP. \n",
        "\n",
        "Para la formulación del problema tener en cuenta lo siguiente:\n",
        "\n",
        "**Variables:**\n",
        "\n",
        "x_j: monto dispuesto a pedir en la línea de crédito en el mes j, para j = 1,2,3,4,5.\n",
        "\n",
        "y_j: monto emitido en el papel comercial en el mes j, para j = 1,2,3.\n",
        "\n",
        "z_j: saldo de fondos (FC) en el mes j, para j = 1,2,3,4,5,6.\n",
        "\n",
        "**Objetivo:** \n",
        "\n",
        "Maximizar el saldo de los fondos (FC) en el mes 6 (Jun):\n",
        "\n",
        "máx z_6\n",
        "\n",
        "**Restricciones:**\n",
        "\n",
        "Restricciones de los saldos en cada mes y límites en xj, yj y zj\n",
        "\n",
        "![image.png](data:image/png;base64,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)\n",
        "\n",
        "Nota: resuelva el problema anterior usando las librerías de Scipy y CVXPY de Python."
      ],
      "metadata": {
        "id": "9pCd7uJt8Yyq"
      }
    },
    {
      "cell_type": "code",
      "source": [
        "# Libreria Scipy\n",
        "Fun_objetivo = np.array([0, 0, 0, 0, 0, 0, 0, 0, 0, 0, 0, 0, 0, 1])\n",
        "Res_1_3 = np.array([[1, 0, 0, 0, 0, 1, 0, 0, -1, 0, 0, 0, 0, 0],\n",
        "                    [-1.01, 1, 0, 0, 0, 0, 1, 0, 1.003, -1, 0, 0, 0, 0],\n",
        "                    [0, -1.01, 1, 0, 0, 0, 0, 1, 0, 1.003, -1, 0, 0, 0],\n",
        "                    [0, 0, -1.01, 1, 0, -1.02, 0, 0, 0, 0, 1.003, -1, 0, 0],\n",
        "                    [0, 0, 0, -1.01, 1 ,0, -1.02, 0, 0, 0, 0, 1.003, -1, 0],\n",
        "                    [0, 0, 0, 0, -1.01, 0, 0, -1.02, 0, 0, 0, 0, 1.003, -1]])\n",
        "\n",
        "Res_2_3 = np.array([150, 100, -200, 200, -50, -300])\n",
        "\n",
        "Rta_pt3 = linprog(-Fun_objetivo, A_eq = Res_1_3, b_eq = Res_2_3, method = 'simplex')\n",
        "pd.DataFrame(Rta_pt3.x).round(2).T\n",
        "\n",
        "# La entrada 0,1 del DataFrame se refiere al crédito en el mes 2\n",
        "# Las entradas 0.5, 0.6 y 0.7 se refieren a los bonos en los meses 1, 2 y 3\n",
        "# La entrada 0,10 se refiere al excedente\n",
        "# La entrada 0,13 se refiere a la maximización"
      ],
      "metadata": {
        "id": "jR_7xBm84THK",
        "colab": {
          "base_uri": "https://localhost:8080/",
          "height": 135
        },
        "outputId": "1c6312fb-a060-4d9f-f0d8-2893daeb8a07"
      },
      "execution_count": null,
      "outputs": [
        {
          "output_type": "stream",
          "name": "stderr",
          "text": [
            "<ipython-input-32-c8bfc71136ca>:12: DeprecationWarning: `method='simplex'` is deprecated and will be removed in SciPy 1.11.0. Please use one of the HiGHS solvers (e.g. `method='highs'`) in new code.\n",
            "  Rta_pt3 = linprog(-Fun_objetivo, A_eq = Res_1_3, b_eq = Res_2_3, method = 'simplex')\n"
          ]
        },
        {
          "output_type": "execute_result",
          "data": {
            "text/plain": [
              "    0      1    2    3    4      5      6       7    8    9       10   11  \\\n",
              "0  0.0  50.98  0.0  0.0  0.0  150.0  49.02  203.43  0.0  0.0  351.94  0.0   \n",
              "\n",
              "    12    13  \n",
              "0  0.0  92.5  "
            ],
            "text/html": [
              "\n",
              "  <div id=\"df-c3cf5636-5978-480a-9f7b-40b627da6a79\">\n",
              "    <div class=\"colab-df-container\">\n",
              "      <div>\n",
              "<style scoped>\n",
              "    .dataframe tbody tr th:only-of-type {\n",
              "        vertical-align: middle;\n",
              "    }\n",
              "\n",
              "    .dataframe tbody tr th {\n",
              "        vertical-align: top;\n",
              "    }\n",
              "\n",
              "    .dataframe thead th {\n",
              "        text-align: right;\n",
              "    }\n",
              "</style>\n",
              "<table border=\"1\" class=\"dataframe\">\n",
              "  <thead>\n",
              "    <tr style=\"text-align: right;\">\n",
              "      <th></th>\n",
              "      <th>0</th>\n",
              "      <th>1</th>\n",
              "      <th>2</th>\n",
              "      <th>3</th>\n",
              "      <th>4</th>\n",
              "      <th>5</th>\n",
              "      <th>6</th>\n",
              "      <th>7</th>\n",
              "      <th>8</th>\n",
              "      <th>9</th>\n",
              "      <th>10</th>\n",
              "      <th>11</th>\n",
              "      <th>12</th>\n",
              "      <th>13</th>\n",
              "    </tr>\n",
              "  </thead>\n",
              "  <tbody>\n",
              "    <tr>\n",
              "      <th>0</th>\n",
              "      <td>0.0</td>\n",
              "      <td>50.98</td>\n",
              "      <td>0.0</td>\n",
              "      <td>0.0</td>\n",
              "      <td>0.0</td>\n",
              "      <td>150.0</td>\n",
              "      <td>49.02</td>\n",
              "      <td>203.43</td>\n",
              "      <td>0.0</td>\n",
              "      <td>0.0</td>\n",
              "      <td>351.94</td>\n",
              "      <td>0.0</td>\n",
              "      <td>0.0</td>\n",
              "      <td>92.5</td>\n",
              "    </tr>\n",
              "  </tbody>\n",
              "</table>\n",
              "</div>\n",
              "      <button class=\"colab-df-convert\" onclick=\"convertToInteractive('df-c3cf5636-5978-480a-9f7b-40b627da6a79')\"\n",
              "              title=\"Convert this dataframe to an interactive table.\"\n",
              "              style=\"display:none;\">\n",
              "        \n",
              "  <svg xmlns=\"http://www.w3.org/2000/svg\" height=\"24px\"viewBox=\"0 0 24 24\"\n",
              "       width=\"24px\">\n",
              "    <path d=\"M0 0h24v24H0V0z\" fill=\"none\"/>\n",
              "    <path d=\"M18.56 5.44l.94 2.06.94-2.06 2.06-.94-2.06-.94-.94-2.06-.94 2.06-2.06.94zm-11 1L8.5 8.5l.94-2.06 2.06-.94-2.06-.94L8.5 2.5l-.94 2.06-2.06.94zm10 10l.94 2.06.94-2.06 2.06-.94-2.06-.94-.94-2.06-.94 2.06-2.06.94z\"/><path d=\"M17.41 7.96l-1.37-1.37c-.4-.4-.92-.59-1.43-.59-.52 0-1.04.2-1.43.59L10.3 9.45l-7.72 7.72c-.78.78-.78 2.05 0 2.83L4 21.41c.39.39.9.59 1.41.59.51 0 1.02-.2 1.41-.59l7.78-7.78 2.81-2.81c.8-.78.8-2.07 0-2.86zM5.41 20L4 18.59l7.72-7.72 1.47 1.35L5.41 20z\"/>\n",
              "  </svg>\n",
              "      </button>\n",
              "      \n",
              "  <style>\n",
              "    .colab-df-container {\n",
              "      display:flex;\n",
              "      flex-wrap:wrap;\n",
              "      gap: 12px;\n",
              "    }\n",
              "\n",
              "    .colab-df-convert {\n",
              "      background-color: #E8F0FE;\n",
              "      border: none;\n",
              "      border-radius: 50%;\n",
              "      cursor: pointer;\n",
              "      display: none;\n",
              "      fill: #1967D2;\n",
              "      height: 32px;\n",
              "      padding: 0 0 0 0;\n",
              "      width: 32px;\n",
              "    }\n",
              "\n",
              "    .colab-df-convert:hover {\n",
              "      background-color: #E2EBFA;\n",
              "      box-shadow: 0px 1px 2px rgba(60, 64, 67, 0.3), 0px 1px 3px 1px rgba(60, 64, 67, 0.15);\n",
              "      fill: #174EA6;\n",
              "    }\n",
              "\n",
              "    [theme=dark] .colab-df-convert {\n",
              "      background-color: #3B4455;\n",
              "      fill: #D2E3FC;\n",
              "    }\n",
              "\n",
              "    [theme=dark] .colab-df-convert:hover {\n",
              "      background-color: #434B5C;\n",
              "      box-shadow: 0px 1px 3px 1px rgba(0, 0, 0, 0.15);\n",
              "      filter: drop-shadow(0px 1px 2px rgba(0, 0, 0, 0.3));\n",
              "      fill: #FFFFFF;\n",
              "    }\n",
              "  </style>\n",
              "\n",
              "      <script>\n",
              "        const buttonEl =\n",
              "          document.querySelector('#df-c3cf5636-5978-480a-9f7b-40b627da6a79 button.colab-df-convert');\n",
              "        buttonEl.style.display =\n",
              "          google.colab.kernel.accessAllowed ? 'block' : 'none';\n",
              "\n",
              "        async function convertToInteractive(key) {\n",
              "          const element = document.querySelector('#df-c3cf5636-5978-480a-9f7b-40b627da6a79');\n",
              "          const dataTable =\n",
              "            await google.colab.kernel.invokeFunction('convertToInteractive',\n",
              "                                                     [key], {});\n",
              "          if (!dataTable) return;\n",
              "\n",
              "          const docLinkHtml = 'Like what you see? Visit the ' +\n",
              "            '<a target=\"_blank\" href=https://colab.research.google.com/notebooks/data_table.ipynb>data table notebook</a>'\n",
              "            + ' to learn more about interactive tables.';\n",
              "          element.innerHTML = '';\n",
              "          dataTable['output_type'] = 'display_data';\n",
              "          await google.colab.output.renderOutput(dataTable, element);\n",
              "          const docLink = document.createElement('div');\n",
              "          docLink.innerHTML = docLinkHtml;\n",
              "          element.appendChild(docLink);\n",
              "        }\n",
              "      </script>\n",
              "    </div>\n",
              "  </div>\n",
              "  "
            ]
          },
          "metadata": {},
          "execution_count": 32
        }
      ]
    },
    {
      "cell_type": "code",
      "source": [
        "# Librería CVXPY\n",
        "n = 14\n",
        "x = cp.Variable(n)\n",
        "objetivo_3 = cp.Minimize(-Fun_objetivo.T@x)\n",
        "restricciones_3 = [Res_1_3 @ x == Res_2_3, x >= 0]\n",
        "prob = cp.Problem(objetivo_3, restricciones_3)\n",
        "prob.solve()\n",
        "Rta_pt3_2= x.value\n",
        "print(round(pd.DataFrame(Rta_pt3_2).T,2))\n",
        "\n",
        "# Para el crédito se puede solicitar 42,69 en el mes 2 y en el mes 5 8,46"
      ],
      "metadata": {
        "colab": {
          "base_uri": "https://localhost:8080/"
        },
        "id": "pGljx8IMI38T",
        "outputId": "c0edb42e-bea0-43e6-f20c-63a9bb5a0310"
      },
      "execution_count": null,
      "outputs": [
        {
          "output_type": "stream",
          "name": "stdout",
          "text": [
            "    0      1    2    3     4      5      6       7    8    9       10   11  \\\n",
            "0  0.0  42.69  0.0  0.0  8.46  150.0  57.31  195.06  0.0  0.0  351.94  0.0   \n",
            "\n",
            "    12    13  \n",
            "0  0.0  92.5  \n"
          ]
        }
      ]
    },
    {
      "cell_type": "markdown",
      "source": [
        "4- La empresa XYZ desea encontrar el saldo óptimo que debe mantener en su cuenta bancaria en un horizonte de un mes buscando maximizar su rentabilidad total. Se sabe que la empresa espera recibir entradas de efectivo de: 500 dólares en la primera semana, 300 dólares en la segunda semana, 200 dólares en la tercera semana y $400 en la cuarta semana. Todas las cifras se encuentran en millones de pesos. Además, la empresa debe realizar los siguientes pagos durante el mes: 350 dólares en la primera semana, 400 dólares en la segunda semana, 250 dólares en la tercera semana y 200 dólares en la cuarta semana y, para ello, debe mantener un saldo suficiente que respalde estas obligaciones.\n",
        "\n",
        "Para aprovechar la rentabilidad que ofrecen los saldos en cada momento, la empresa puede invertir sus recursos en un instrumento a corto plazo en el que recibe un rendimiento del 0,02% por día, pero al realizar esta operación debe incurrir en un costo de transacción del 0,01% del monto transferido.\n",
        "\n",
        "Formule un problema de LP utilizando Scipy que le permita maximizar la rentabilidad total de los saldos en su cuenta teniendo en cuenta las restricciones de sus flujos de efectivo."
      ],
      "metadata": {
        "id": "NEr-IfJ7-CGG"
      }
    },
    {
      "cell_type": "code",
      "execution_count": null,
      "metadata": {
        "colab": {
          "base_uri": "https://localhost:8080/",
          "height": 135
        },
        "id": "JF2WA5SN4QDK",
        "outputId": "4d3a41a6-7a6d-4406-b72c-1e1e535073f5"
      },
      "outputs": [
        {
          "output_type": "stream",
          "name": "stderr",
          "text": [
            "<ipython-input-39-d38141adc54f>:11: DeprecationWarning: `method='simplex'` is deprecated and will be removed in SciPy 1.11.0. Please use one of the HiGHS solvers (e.g. `method='highs'`) in new code.\n",
            "  Rta_pt4 = linprog(-FO, A_ub=A_4, b_ub=-b_4, method='simplex')\n"
          ]
        },
        {
          "output_type": "execute_result",
          "data": {
            "text/plain": [
              "     0    1    2    3      4      5     6       7\n",
              "0  0.0  0.0  0.0  0.0  150.0  50.11  0.14  200.14"
            ],
            "text/html": [
              "\n",
              "  <div id=\"df-5164cf58-1b9e-4bd3-9189-3de9e1ccecc9\">\n",
              "    <div class=\"colab-df-container\">\n",
              "      <div>\n",
              "<style scoped>\n",
              "    .dataframe tbody tr th:only-of-type {\n",
              "        vertical-align: middle;\n",
              "    }\n",
              "\n",
              "    .dataframe tbody tr th {\n",
              "        vertical-align: top;\n",
              "    }\n",
              "\n",
              "    .dataframe thead th {\n",
              "        text-align: right;\n",
              "    }\n",
              "</style>\n",
              "<table border=\"1\" class=\"dataframe\">\n",
              "  <thead>\n",
              "    <tr style=\"text-align: right;\">\n",
              "      <th></th>\n",
              "      <th>0</th>\n",
              "      <th>1</th>\n",
              "      <th>2</th>\n",
              "      <th>3</th>\n",
              "      <th>4</th>\n",
              "      <th>5</th>\n",
              "      <th>6</th>\n",
              "      <th>7</th>\n",
              "    </tr>\n",
              "  </thead>\n",
              "  <tbody>\n",
              "    <tr>\n",
              "      <th>0</th>\n",
              "      <td>0.0</td>\n",
              "      <td>0.0</td>\n",
              "      <td>0.0</td>\n",
              "      <td>0.0</td>\n",
              "      <td>150.0</td>\n",
              "      <td>50.11</td>\n",
              "      <td>0.14</td>\n",
              "      <td>200.14</td>\n",
              "    </tr>\n",
              "  </tbody>\n",
              "</table>\n",
              "</div>\n",
              "      <button class=\"colab-df-convert\" onclick=\"convertToInteractive('df-5164cf58-1b9e-4bd3-9189-3de9e1ccecc9')\"\n",
              "              title=\"Convert this dataframe to an interactive table.\"\n",
              "              style=\"display:none;\">\n",
              "        \n",
              "  <svg xmlns=\"http://www.w3.org/2000/svg\" height=\"24px\"viewBox=\"0 0 24 24\"\n",
              "       width=\"24px\">\n",
              "    <path d=\"M0 0h24v24H0V0z\" fill=\"none\"/>\n",
              "    <path d=\"M18.56 5.44l.94 2.06.94-2.06 2.06-.94-2.06-.94-.94-2.06-.94 2.06-2.06.94zm-11 1L8.5 8.5l.94-2.06 2.06-.94-2.06-.94L8.5 2.5l-.94 2.06-2.06.94zm10 10l.94 2.06.94-2.06 2.06-.94-2.06-.94-.94-2.06-.94 2.06-2.06.94z\"/><path d=\"M17.41 7.96l-1.37-1.37c-.4-.4-.92-.59-1.43-.59-.52 0-1.04.2-1.43.59L10.3 9.45l-7.72 7.72c-.78.78-.78 2.05 0 2.83L4 21.41c.39.39.9.59 1.41.59.51 0 1.02-.2 1.41-.59l7.78-7.78 2.81-2.81c.8-.78.8-2.07 0-2.86zM5.41 20L4 18.59l7.72-7.72 1.47 1.35L5.41 20z\"/>\n",
              "  </svg>\n",
              "      </button>\n",
              "      \n",
              "  <style>\n",
              "    .colab-df-container {\n",
              "      display:flex;\n",
              "      flex-wrap:wrap;\n",
              "      gap: 12px;\n",
              "    }\n",
              "\n",
              "    .colab-df-convert {\n",
              "      background-color: #E8F0FE;\n",
              "      border: none;\n",
              "      border-radius: 50%;\n",
              "      cursor: pointer;\n",
              "      display: none;\n",
              "      fill: #1967D2;\n",
              "      height: 32px;\n",
              "      padding: 0 0 0 0;\n",
              "      width: 32px;\n",
              "    }\n",
              "\n",
              "    .colab-df-convert:hover {\n",
              "      background-color: #E2EBFA;\n",
              "      box-shadow: 0px 1px 2px rgba(60, 64, 67, 0.3), 0px 1px 3px 1px rgba(60, 64, 67, 0.15);\n",
              "      fill: #174EA6;\n",
              "    }\n",
              "\n",
              "    [theme=dark] .colab-df-convert {\n",
              "      background-color: #3B4455;\n",
              "      fill: #D2E3FC;\n",
              "    }\n",
              "\n",
              "    [theme=dark] .colab-df-convert:hover {\n",
              "      background-color: #434B5C;\n",
              "      box-shadow: 0px 1px 3px 1px rgba(0, 0, 0, 0.15);\n",
              "      filter: drop-shadow(0px 1px 2px rgba(0, 0, 0, 0.3));\n",
              "      fill: #FFFFFF;\n",
              "    }\n",
              "  </style>\n",
              "\n",
              "      <script>\n",
              "        const buttonEl =\n",
              "          document.querySelector('#df-5164cf58-1b9e-4bd3-9189-3de9e1ccecc9 button.colab-df-convert');\n",
              "        buttonEl.style.display =\n",
              "          google.colab.kernel.accessAllowed ? 'block' : 'none';\n",
              "\n",
              "        async function convertToInteractive(key) {\n",
              "          const element = document.querySelector('#df-5164cf58-1b9e-4bd3-9189-3de9e1ccecc9');\n",
              "          const dataTable =\n",
              "            await google.colab.kernel.invokeFunction('convertToInteractive',\n",
              "                                                     [key], {});\n",
              "          if (!dataTable) return;\n",
              "\n",
              "          const docLinkHtml = 'Like what you see? Visit the ' +\n",
              "            '<a target=\"_blank\" href=https://colab.research.google.com/notebooks/data_table.ipynb>data table notebook</a>'\n",
              "            + ' to learn more about interactive tables.';\n",
              "          element.innerHTML = '';\n",
              "          dataTable['output_type'] = 'display_data';\n",
              "          await google.colab.output.renderOutput(dataTable, element);\n",
              "          const docLink = document.createElement('div');\n",
              "          docLink.innerHTML = docLinkHtml;\n",
              "          element.appendChild(docLink);\n",
              "        }\n",
              "      </script>\n",
              "    </div>\n",
              "  </div>\n",
              "  "
            ]
          },
          "metadata": {},
          "execution_count": 39
        }
      ],
      "source": [
        "# Función objetivo\n",
        "FO = np.array([0, 0, 0, 0, 0, 0, 0, 1])\n",
        "# Restricciones\n",
        "Rn_4 = (1+0.0001)**7\n",
        "A_4 = np.array([[1, 0, 0, 0, -1, 0, 0, 0], \n",
        "                [0, 1, 0, 0, Rn_4, -1, 0, 0], \n",
        "                [0, 0, 1, 0, 0, Rn_4, -1, 0], \n",
        "                [0, 0, 0, 1, 0, 0, Rn_4, -1]])\n",
        "b_4 = np.array([[150, -100, -50, 200]])\n",
        "# Función de optimización\n",
        "Rta_pt4 = linprog(-FO, A_ub=A_4, b_ub=-b_4, method='simplex')\n",
        "Val_opti = pd.DataFrame(Rta_pt4.x).T\n",
        "Val_opti.round(2)"
      ]
    },
    {
      "cell_type": "code",
      "source": [
        "# Valor Máximo\n",
        "-Rta_pt4.fun"
      ],
      "metadata": {
        "id": "1NFKKyDgmpgF",
        "colab": {
          "base_uri": "https://localhost:8080/"
        },
        "outputId": "b1eaefe6-9995-42db-8715-087e95a4f7c0"
      },
      "execution_count": null,
      "outputs": [
        {
          "output_type": "execute_result",
          "data": {
            "text/plain": [
              "200.14021366142958"
            ]
          },
          "metadata": {},
          "execution_count": 40
        }
      ]
    },
    {
      "cell_type": "markdown",
      "source": [
        "5- La empresa XYZ tiene que decidir como distribuye su presupuesto $10.000 millones y la mano de obra (horas de trabajo) en tres departamentos: ventas, marketing y producción buscando maximizar sus ganancias. Para ello, se sabe que cada departamento le proporciona a la empresa las siguientes ganancias: ventas: 5 dólares, marketing: 8 dólares, y producción: 10 dólares. Esta asignación debe cumplir las siguientes restricciones:\n",
        "\n",
        "i. El total de horas de trabajo disponibles es de 1.000.\n",
        "\n",
        "ii. El departamento de ventas debe recibir al menos el 20% del presupuesto total.\n",
        "\n",
        "iii. El departamento de marketing debe recibir al menos el 30% del total de horas de trabajo disponibles.\n",
        "\n",
        "iv. El departamento de producción debe recibir al menos el 25% del total de horas de trabajo disponibles.\n",
        "\n",
        "Formule un problema de LP utilizando Scipy que le permita maximizar"
      ],
      "metadata": {
        "id": "TLMZ078u_1tq"
      }
    },
    {
      "cell_type": "code",
      "source": [
        "# Función objetivo\n",
        "Func_objet = np.array([0, 0, 0, 5, 8, 10])\n",
        "# Restricciones\n",
        "A_5 = np.array([[0, 0, 0, 1, 0, 0],\n",
        "                [0, 1, 0, 0, 0, 0],\n",
        "                [0, 0, 1, 0, 0, 0],\n",
        "                [0, 0, 0, 0, 1, 0],\n",
        "                [0, 0, 0, 0, 0, 1]])\n",
        "b_5 = np.array([2000, 300, 250, 2000, 2000])\n",
        "A_5_2 = np.array([[1, 1, 1, 0, 0, 0],\n",
        "                  [0, 0, 0, 1, 1, 1]])\n",
        "b_5_2 = np.array([1000, 10000])\n",
        "# RTA\n",
        "Rta_pt5 = linprog(-Func_objet, A_ub = -A_5, b_ub = -b_5, A_eq = A_5_2, b_eq = b_5_2, method = 'simplex')\n",
        "pd.DataFrame(Rta_pt5.x).round(4).T\n",
        "\n",
        "# El presupuesto asignado es de $2000 para las ventas, $2000 para marketing y $6000 para producción\n",
        "# La distribución de horas es: 450 h para ventas, 300 h para marketing y 250 h para producción"
      ],
      "metadata": {
        "id": "jQlD8cFbAJk6",
        "colab": {
          "base_uri": "https://localhost:8080/",
          "height": 135
        },
        "outputId": "09a854c2-54a9-4e35-f69a-4ea93c7d770d"
      },
      "execution_count": null,
      "outputs": [
        {
          "output_type": "stream",
          "name": "stderr",
          "text": [
            "<ipython-input-41-a279d9a295d1>:14: DeprecationWarning: `method='simplex'` is deprecated and will be removed in SciPy 1.11.0. Please use one of the HiGHS solvers (e.g. `method='highs'`) in new code.\n",
            "  Rta_pt5 = linprog(-Func_objet, A_ub = -A_5, b_ub = -b_5, A_eq = A_5_2, b_eq = b_5_2, method = 'simplex')\n"
          ]
        },
        {
          "output_type": "execute_result",
          "data": {
            "text/plain": [
              "       0      1      2       3       4       5\n",
              "0  450.0  300.0  250.0  2000.0  2000.0  6000.0"
            ],
            "text/html": [
              "\n",
              "  <div id=\"df-31cb556f-7459-4440-9e8d-534144e87a22\">\n",
              "    <div class=\"colab-df-container\">\n",
              "      <div>\n",
              "<style scoped>\n",
              "    .dataframe tbody tr th:only-of-type {\n",
              "        vertical-align: middle;\n",
              "    }\n",
              "\n",
              "    .dataframe tbody tr th {\n",
              "        vertical-align: top;\n",
              "    }\n",
              "\n",
              "    .dataframe thead th {\n",
              "        text-align: right;\n",
              "    }\n",
              "</style>\n",
              "<table border=\"1\" class=\"dataframe\">\n",
              "  <thead>\n",
              "    <tr style=\"text-align: right;\">\n",
              "      <th></th>\n",
              "      <th>0</th>\n",
              "      <th>1</th>\n",
              "      <th>2</th>\n",
              "      <th>3</th>\n",
              "      <th>4</th>\n",
              "      <th>5</th>\n",
              "    </tr>\n",
              "  </thead>\n",
              "  <tbody>\n",
              "    <tr>\n",
              "      <th>0</th>\n",
              "      <td>450.0</td>\n",
              "      <td>300.0</td>\n",
              "      <td>250.0</td>\n",
              "      <td>2000.0</td>\n",
              "      <td>2000.0</td>\n",
              "      <td>6000.0</td>\n",
              "    </tr>\n",
              "  </tbody>\n",
              "</table>\n",
              "</div>\n",
              "      <button class=\"colab-df-convert\" onclick=\"convertToInteractive('df-31cb556f-7459-4440-9e8d-534144e87a22')\"\n",
              "              title=\"Convert this dataframe to an interactive table.\"\n",
              "              style=\"display:none;\">\n",
              "        \n",
              "  <svg xmlns=\"http://www.w3.org/2000/svg\" height=\"24px\"viewBox=\"0 0 24 24\"\n",
              "       width=\"24px\">\n",
              "    <path d=\"M0 0h24v24H0V0z\" fill=\"none\"/>\n",
              "    <path d=\"M18.56 5.44l.94 2.06.94-2.06 2.06-.94-2.06-.94-.94-2.06-.94 2.06-2.06.94zm-11 1L8.5 8.5l.94-2.06 2.06-.94-2.06-.94L8.5 2.5l-.94 2.06-2.06.94zm10 10l.94 2.06.94-2.06 2.06-.94-2.06-.94-.94-2.06-.94 2.06-2.06.94z\"/><path d=\"M17.41 7.96l-1.37-1.37c-.4-.4-.92-.59-1.43-.59-.52 0-1.04.2-1.43.59L10.3 9.45l-7.72 7.72c-.78.78-.78 2.05 0 2.83L4 21.41c.39.39.9.59 1.41.59.51 0 1.02-.2 1.41-.59l7.78-7.78 2.81-2.81c.8-.78.8-2.07 0-2.86zM5.41 20L4 18.59l7.72-7.72 1.47 1.35L5.41 20z\"/>\n",
              "  </svg>\n",
              "      </button>\n",
              "      \n",
              "  <style>\n",
              "    .colab-df-container {\n",
              "      display:flex;\n",
              "      flex-wrap:wrap;\n",
              "      gap: 12px;\n",
              "    }\n",
              "\n",
              "    .colab-df-convert {\n",
              "      background-color: #E8F0FE;\n",
              "      border: none;\n",
              "      border-radius: 50%;\n",
              "      cursor: pointer;\n",
              "      display: none;\n",
              "      fill: #1967D2;\n",
              "      height: 32px;\n",
              "      padding: 0 0 0 0;\n",
              "      width: 32px;\n",
              "    }\n",
              "\n",
              "    .colab-df-convert:hover {\n",
              "      background-color: #E2EBFA;\n",
              "      box-shadow: 0px 1px 2px rgba(60, 64, 67, 0.3), 0px 1px 3px 1px rgba(60, 64, 67, 0.15);\n",
              "      fill: #174EA6;\n",
              "    }\n",
              "\n",
              "    [theme=dark] .colab-df-convert {\n",
              "      background-color: #3B4455;\n",
              "      fill: #D2E3FC;\n",
              "    }\n",
              "\n",
              "    [theme=dark] .colab-df-convert:hover {\n",
              "      background-color: #434B5C;\n",
              "      box-shadow: 0px 1px 3px 1px rgba(0, 0, 0, 0.15);\n",
              "      filter: drop-shadow(0px 1px 2px rgba(0, 0, 0, 0.3));\n",
              "      fill: #FFFFFF;\n",
              "    }\n",
              "  </style>\n",
              "\n",
              "      <script>\n",
              "        const buttonEl =\n",
              "          document.querySelector('#df-31cb556f-7459-4440-9e8d-534144e87a22 button.colab-df-convert');\n",
              "        buttonEl.style.display =\n",
              "          google.colab.kernel.accessAllowed ? 'block' : 'none';\n",
              "\n",
              "        async function convertToInteractive(key) {\n",
              "          const element = document.querySelector('#df-31cb556f-7459-4440-9e8d-534144e87a22');\n",
              "          const dataTable =\n",
              "            await google.colab.kernel.invokeFunction('convertToInteractive',\n",
              "                                                     [key], {});\n",
              "          if (!dataTable) return;\n",
              "\n",
              "          const docLinkHtml = 'Like what you see? Visit the ' +\n",
              "            '<a target=\"_blank\" href=https://colab.research.google.com/notebooks/data_table.ipynb>data table notebook</a>'\n",
              "            + ' to learn more about interactive tables.';\n",
              "          element.innerHTML = '';\n",
              "          dataTable['output_type'] = 'display_data';\n",
              "          await google.colab.output.renderOutput(dataTable, element);\n",
              "          const docLink = document.createElement('div');\n",
              "          docLink.innerHTML = docLinkHtml;\n",
              "          element.appendChild(docLink);\n",
              "        }\n",
              "      </script>\n",
              "    </div>\n",
              "  </div>\n",
              "  "
            ]
          },
          "metadata": {},
          "execution_count": 41
        }
      ]
    },
    {
      "cell_type": "code",
      "source": [
        "# Valor maximizado\n",
        "-Rta_pt5.fun"
      ],
      "metadata": {
        "colab": {
          "base_uri": "https://localhost:8080/"
        },
        "id": "vA6I4eYOOGTS",
        "outputId": "ff59fb80-9283-4b87-cf5c-806d979880fd"
      },
      "execution_count": null,
      "outputs": [
        {
          "output_type": "execute_result",
          "data": {
            "text/plain": [
              "86000.0"
            ]
          },
          "metadata": {},
          "execution_count": 42
        }
      ]
    },
    {
      "cell_type": "markdown",
      "source": [
        "6- Considere una empresa con tres puntos potenciales para ubicar sus instalaciones (J ={1,2,3}) y cinco puntos de demanda que debe satisfacer (I = {1,2,3,4,5}). La apertura del punto j ∈ J tiene un costo fijo de funcionamiento fj, independientemente del volumen de ventas que maneje. Este volumen está limitado a una determinada cantidad máxima que puede manejarse anualmente (Mj). Además, hay un costo de transporte cij para ir desde el punto j para abastecer la demanda en el punto i. Las siguientes tablas muestran los datos de demanda en cada punto:\n",
        "\n",
        "![image.png](data:image/png;base64,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)\n",
        "\n",
        "Y los costos de transporte, de funcionamiento y cantidad máxima que puede mantener en cada\n",
        "\n",
        "![image.png](data:image/png;base64,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)\n",
        "\n",
        "Las columnas 1-5 muestran el costo de transporte desde cada punto instalado (planta) a cada demanda que debe satisfacer. Las columnas fj y Mj muestran los costos fijos y la capacidad máxima en cada ubicación. Encuentre la ubicación óptima para satisfacer las demandas de tal forma que se minimicen los costos.\n",
        "\n",
        "Formule un problema de optimización utilizando Scipy que le permita encontrar la estrategia optima de la empresa para reducir sus costos de funcionamiento y transporte."
      ],
      "metadata": {
        "id": "LeHCfeuaAJEJ"
      }
    },
    {
      "cell_type": "code",
      "source": [
        "# Función objetivo\n",
        "Función_Objetivo_6 = np.array([[4, 5, 6, 8, 10],\n",
        "                               [6, 4, 3, 5, 8],\n",
        "                               [9, 7, 4, 3, 4]])\n",
        "# Restricciones\n",
        "MA_6 = np.array([500, 500, 500])\n",
        "dem_6 = np.array([80, 270, 250, 160, 180])\n",
        "x_pt6 = cp.Variable((3, 5), nonneg=True)\n",
        "matriz = np.array([1000, 1000, 1000])\n",
        "cy_pt6 = cp.Variable(3, boolean = True)\n",
        "Objetivo_6 = cp.Minimize(cp.sum(cp.multiply(Función_Objetivo_6, x_pt6)))\n",
        "Restricciones_6 = [cp.sum(x_pt6, axis=1)<= MA_6 @ cy_pt6, cp.sum(x_pt6, axis=0)==dem_6, cp.sum(cy_pt6*MA_6) >= cp.sum(dem_6)]\n",
        "\n",
        "# Optimización\n",
        "Rta_pt6 = cp.Problem(Objetivo_6, Restricciones_6)\n",
        "Rta_pt6.solve()\n",
        "print(round(pd.DataFrame(x_pt6.value),4))\n",
        "cy_pt6.value"
      ],
      "metadata": {
        "colab": {
          "base_uri": "https://localhost:8080/"
        },
        "id": "6VHMBcC97rZX",
        "outputId": "09fba988-9258-443e-ec0a-8e311f4c4c28"
      },
      "execution_count": null,
      "outputs": [
        {
          "output_type": "stream",
          "name": "stdout",
          "text": [
            "      0      1      2      3      4\n",
            "0  80.0   -0.0   -0.0   -0.0   -0.0\n",
            "1  -0.0  270.0  250.0   -0.0   -0.0\n",
            "2  -0.0   -0.0   -0.0  160.0  180.0\n"
          ]
        },
        {
          "output_type": "stream",
          "name": "stderr",
          "text": [
            "/usr/local/lib/python3.9/dist-packages/cvxpy/expressions/expression.py:593: UserWarning: \n",
            "This use of ``*`` has resulted in matrix multiplication.\n",
            "Using ``*`` for matrix multiplication has been deprecated since CVXPY 1.1.\n",
            "    Use ``*`` for matrix-scalar and vector-scalar multiplication.\n",
            "    Use ``@`` for matrix-matrix and matrix-vector multiplication.\n",
            "    Use ``multiply`` for elementwise multiplication.\n",
            "This code path has been hit 1 times so far.\n",
            "\n",
            "  warnings.warn(msg, UserWarning)\n"
          ]
        },
        {
          "output_type": "execute_result",
          "data": {
            "text/plain": [
              "array([1., 1., 0.])"
            ]
          },
          "metadata": {},
          "execution_count": 9
        }
      ]
    }
  ]
}