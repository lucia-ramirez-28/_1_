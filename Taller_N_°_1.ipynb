{
  "nbformat": 4,
  "nbformat_minor": 0,
  "metadata": {
    "colab": {
      "provenance": []
    },
    "kernelspec": {
      "name": "python3",
      "display_name": "Python 3"
    },
    "language_info": {
      "name": "python"
    }
  },
  "cells": [
    {
      "cell_type": "markdown",
      "source": [
        "#Taller N° 1\n",
        "Integrantes:\n",
        "\n",
        "*   Gabriela Garbiras\n",
        "*   Lucía Ramírez"
      ],
      "metadata": {
        "id": "okIYWxN2RC9u"
      }
    },
    {
      "cell_type": "code",
      "source": [
        "import numpy as np\n",
        "import pandas as pd\n",
        "import matplotlib.pyplot as plt\n",
        "import warnings\n",
        "warnings.filterwarnings(\"ignore\")\n",
        "!pip install --quiet yfinance\n",
        "import yfinance as yf\n",
        "import pandas_datareader.data as pdr\n",
        "import scipy.stats as stats\n",
        "import seaborn as sns"
      ],
      "metadata": {
        "colab": {
          "base_uri": "https://localhost:8080/"
        },
        "id": "xbrkOq-BPS-V",
        "outputId": "2e14872e-f7e8-4f88-b03d-559f2e25fee3"
      },
      "execution_count": 1,
      "outputs": [
        {
          "output_type": "stream",
          "name": "stdout",
          "text": [
            "\u001b[2K     \u001b[90m━━━━━━━━━━━━━━━━━━━━━━━━━━━━━━━━━━━━━━━━\u001b[0m \u001b[32m59.2/59.2 KB\u001b[0m \u001b[31m2.3 MB/s\u001b[0m eta \u001b[36m0:00:00\u001b[0m\n",
            "\u001b[2K     \u001b[90m━━━━━━━━━━━━━━━━━━━━━━━━━━━━━━━━━━━━━━━━\u001b[0m \u001b[32m62.8/62.8 KB\u001b[0m \u001b[31m5.0 MB/s\u001b[0m eta \u001b[36m0:00:00\u001b[0m\n",
            "\u001b[2K     \u001b[90m━━━━━━━━━━━━━━━━━━━━━━━━━━━━━━━━━━━━━━\u001b[0m \u001b[32m111.0/111.0 KB\u001b[0m \u001b[31m11.2 MB/s\u001b[0m eta \u001b[36m0:00:00\u001b[0m\n",
            "\u001b[2K     \u001b[90m━━━━━━━━━━━━━━━━━━━━━━━━━━━━━━━━━━━━━━\u001b[0m \u001b[32m112.2/112.2 KB\u001b[0m \u001b[31m12.4 MB/s\u001b[0m eta \u001b[36m0:00:00\u001b[0m\n",
            "\u001b[2K     \u001b[90m━━━━━━━━━━━━━━━━━━━━━━━━━━━━━━━━━━━━━━\u001b[0m \u001b[32m129.4/129.4 KB\u001b[0m \u001b[31m14.7 MB/s\u001b[0m eta \u001b[36m0:00:00\u001b[0m\n",
            "\u001b[2K     \u001b[90m━━━━━━━━━━━━━━━━━━━━━━━━━━━━━━━━━━━━━━━━\u001b[0m \u001b[32m4.2/4.2 MB\u001b[0m \u001b[31m41.6 MB/s\u001b[0m eta \u001b[36m0:00:00\u001b[0m\n",
            "\u001b[?25h"
          ]
        }
      ]
    },
    {
      "cell_type": "markdown",
      "source": [
        "Punto N° 1"
      ],
      "metadata": {
        "id": "E8sWcp7tQ9-a"
      }
    },
    {
      "cell_type": "code",
      "source": [
        "yf.pdr_override()"
      ],
      "metadata": {
        "id": "tQFmmEdvtbO1"
      },
      "execution_count": 2,
      "outputs": []
    },
    {
      "cell_type": "code",
      "execution_count": 3,
      "metadata": {
        "colab": {
          "base_uri": "https://localhost:8080/"
        },
        "id": "beCwit4bPLbi",
        "outputId": "def80f07-45d4-4cf7-bbab-b6039e5fed94"
      },
      "outputs": [
        {
          "output_type": "stream",
          "name": "stdout",
          "text": [
            "[*********************100%***********************]  2 of 2 completed\n",
            "[*********************100%***********************]  2 of 2 completed\n"
          ]
        }
      ],
      "source": [
        "activos = ['NFLX','KO']\n",
        "inicio = '2021-01-01'\n",
        "fin = '2022-12-31'\n",
        "Precios1 = pdr.DataReader(activos,inicio,fin)['Adj Close'].dropna()\n",
        "Precios2 = pdr.DataReader(activos,inicio,fin,interval='1mo')['Adj Close'].dropna()\n",
        "Precios3 = Precios1.resample('A').last()"
      ]
    },
    {
      "cell_type": "code",
      "source": [
        "#Retornos logarítmicos\n",
        "r_log_diarios = np.log(Precios1/Precios1.shift(1)).dropna()\n",
        "r_log_mes = np.log(Precios2/Precios2.shift(1)).dropna()\n",
        "r_log_año = np.log(Precios3/Precios3.shift(1)).dropna()\n",
        "Tabla = pd.merge(pd.merge(r_log_diarios,r_log_mes,on='Date',suffixes=(' Día',' Mes')),r_log_año,on='Date',suffixes=(' Año'))\n",
        "Tabla"
      ],
      "metadata": {
        "id": "ABL0DMERTDfY",
        "colab": {
          "base_uri": "https://localhost:8080/",
          "height": 81
        },
        "outputId": "2c934bbd-c7e6-4898-f1d4-132b2930c2a7"
      },
      "execution_count": 4,
      "outputs": [
        {
          "output_type": "execute_result",
          "data": {
            "text/plain": [
              "Empty DataFrame\n",
              "Columns: [KO Día, NFLX Día, KO Mes, NFLX Mes, KO, NFLX]\n",
              "Index: []"
            ],
            "text/html": [
              "\n",
              "  <div id=\"df-262e39f6-1fb2-42d2-8b26-2c83e802f278\">\n",
              "    <div class=\"colab-df-container\">\n",
              "      <div>\n",
              "<style scoped>\n",
              "    .dataframe tbody tr th:only-of-type {\n",
              "        vertical-align: middle;\n",
              "    }\n",
              "\n",
              "    .dataframe tbody tr th {\n",
              "        vertical-align: top;\n",
              "    }\n",
              "\n",
              "    .dataframe thead th {\n",
              "        text-align: right;\n",
              "    }\n",
              "</style>\n",
              "<table border=\"1\" class=\"dataframe\">\n",
              "  <thead>\n",
              "    <tr style=\"text-align: right;\">\n",
              "      <th></th>\n",
              "      <th>KO Día</th>\n",
              "      <th>NFLX Día</th>\n",
              "      <th>KO Mes</th>\n",
              "      <th>NFLX Mes</th>\n",
              "      <th>KO</th>\n",
              "      <th>NFLX</th>\n",
              "    </tr>\n",
              "    <tr>\n",
              "      <th>Date</th>\n",
              "      <th></th>\n",
              "      <th></th>\n",
              "      <th></th>\n",
              "      <th></th>\n",
              "      <th></th>\n",
              "      <th></th>\n",
              "    </tr>\n",
              "  </thead>\n",
              "  <tbody>\n",
              "  </tbody>\n",
              "</table>\n",
              "</div>\n",
              "      <button class=\"colab-df-convert\" onclick=\"convertToInteractive('df-262e39f6-1fb2-42d2-8b26-2c83e802f278')\"\n",
              "              title=\"Convert this dataframe to an interactive table.\"\n",
              "              style=\"display:none;\">\n",
              "        \n",
              "  <svg xmlns=\"http://www.w3.org/2000/svg\" height=\"24px\"viewBox=\"0 0 24 24\"\n",
              "       width=\"24px\">\n",
              "    <path d=\"M0 0h24v24H0V0z\" fill=\"none\"/>\n",
              "    <path d=\"M18.56 5.44l.94 2.06.94-2.06 2.06-.94-2.06-.94-.94-2.06-.94 2.06-2.06.94zm-11 1L8.5 8.5l.94-2.06 2.06-.94-2.06-.94L8.5 2.5l-.94 2.06-2.06.94zm10 10l.94 2.06.94-2.06 2.06-.94-2.06-.94-.94-2.06-.94 2.06-2.06.94z\"/><path d=\"M17.41 7.96l-1.37-1.37c-.4-.4-.92-.59-1.43-.59-.52 0-1.04.2-1.43.59L10.3 9.45l-7.72 7.72c-.78.78-.78 2.05 0 2.83L4 21.41c.39.39.9.59 1.41.59.51 0 1.02-.2 1.41-.59l7.78-7.78 2.81-2.81c.8-.78.8-2.07 0-2.86zM5.41 20L4 18.59l7.72-7.72 1.47 1.35L5.41 20z\"/>\n",
              "  </svg>\n",
              "      </button>\n",
              "      \n",
              "  <style>\n",
              "    .colab-df-container {\n",
              "      display:flex;\n",
              "      flex-wrap:wrap;\n",
              "      gap: 12px;\n",
              "    }\n",
              "\n",
              "    .colab-df-convert {\n",
              "      background-color: #E8F0FE;\n",
              "      border: none;\n",
              "      border-radius: 50%;\n",
              "      cursor: pointer;\n",
              "      display: none;\n",
              "      fill: #1967D2;\n",
              "      height: 32px;\n",
              "      padding: 0 0 0 0;\n",
              "      width: 32px;\n",
              "    }\n",
              "\n",
              "    .colab-df-convert:hover {\n",
              "      background-color: #E2EBFA;\n",
              "      box-shadow: 0px 1px 2px rgba(60, 64, 67, 0.3), 0px 1px 3px 1px rgba(60, 64, 67, 0.15);\n",
              "      fill: #174EA6;\n",
              "    }\n",
              "\n",
              "    [theme=dark] .colab-df-convert {\n",
              "      background-color: #3B4455;\n",
              "      fill: #D2E3FC;\n",
              "    }\n",
              "\n",
              "    [theme=dark] .colab-df-convert:hover {\n",
              "      background-color: #434B5C;\n",
              "      box-shadow: 0px 1px 3px 1px rgba(0, 0, 0, 0.15);\n",
              "      filter: drop-shadow(0px 1px 2px rgba(0, 0, 0, 0.3));\n",
              "      fill: #FFFFFF;\n",
              "    }\n",
              "  </style>\n",
              "\n",
              "      <script>\n",
              "        const buttonEl =\n",
              "          document.querySelector('#df-262e39f6-1fb2-42d2-8b26-2c83e802f278 button.colab-df-convert');\n",
              "        buttonEl.style.display =\n",
              "          google.colab.kernel.accessAllowed ? 'block' : 'none';\n",
              "\n",
              "        async function convertToInteractive(key) {\n",
              "          const element = document.querySelector('#df-262e39f6-1fb2-42d2-8b26-2c83e802f278');\n",
              "          const dataTable =\n",
              "            await google.colab.kernel.invokeFunction('convertToInteractive',\n",
              "                                                     [key], {});\n",
              "          if (!dataTable) return;\n",
              "\n",
              "          const docLinkHtml = 'Like what you see? Visit the ' +\n",
              "            '<a target=\"_blank\" href=https://colab.research.google.com/notebooks/data_table.ipynb>data table notebook</a>'\n",
              "            + ' to learn more about interactive tables.';\n",
              "          element.innerHTML = '';\n",
              "          dataTable['output_type'] = 'display_data';\n",
              "          await google.colab.output.renderOutput(dataTable, element);\n",
              "          const docLink = document.createElement('div');\n",
              "          docLink.innerHTML = docLinkHtml;\n",
              "          element.appendChild(docLink);\n",
              "        }\n",
              "      </script>\n",
              "    </div>\n",
              "  </div>\n",
              "  "
            ]
          },
          "metadata": {},
          "execution_count": 4
        }
      ]
    },
    {
      "cell_type": "code",
      "source": [
        "#Tabla de retornos diarios\n",
        "r_log_diarios"
      ],
      "metadata": {
        "colab": {
          "base_uri": "https://localhost:8080/",
          "height": 455
        },
        "id": "NeNWEv2lIpXo",
        "outputId": "5a4c7aa7-106f-4e4f-b2c5-6b223ab15ade"
      },
      "execution_count": 5,
      "outputs": [
        {
          "output_type": "execute_result",
          "data": {
            "text/plain": [
              "                  KO      NFLX\n",
              "Date                          \n",
              "2021-01-05 -0.011054 -0.003948\n",
              "2021-01-06 -0.032330 -0.039778\n",
              "2021-01-07 -0.011147  0.016644\n",
              "2021-01-08  0.022170  0.002963\n",
              "2021-01-11 -0.017378 -0.022388\n",
              "...              ...       ...\n",
              "2022-12-23  0.007550 -0.009414\n",
              "2022-12-27  0.006092 -0.037267\n",
              "2022-12-28 -0.010017 -0.025988\n",
              "2022-12-29  0.005960  0.050151\n",
              "2022-12-30 -0.005331  0.012833\n",
              "\n",
              "[502 rows x 2 columns]"
            ],
            "text/html": [
              "\n",
              "  <div id=\"df-62815edd-7d2f-4fc7-94e9-932015c3cb5f\">\n",
              "    <div class=\"colab-df-container\">\n",
              "      <div>\n",
              "<style scoped>\n",
              "    .dataframe tbody tr th:only-of-type {\n",
              "        vertical-align: middle;\n",
              "    }\n",
              "\n",
              "    .dataframe tbody tr th {\n",
              "        vertical-align: top;\n",
              "    }\n",
              "\n",
              "    .dataframe thead th {\n",
              "        text-align: right;\n",
              "    }\n",
              "</style>\n",
              "<table border=\"1\" class=\"dataframe\">\n",
              "  <thead>\n",
              "    <tr style=\"text-align: right;\">\n",
              "      <th></th>\n",
              "      <th>KO</th>\n",
              "      <th>NFLX</th>\n",
              "    </tr>\n",
              "    <tr>\n",
              "      <th>Date</th>\n",
              "      <th></th>\n",
              "      <th></th>\n",
              "    </tr>\n",
              "  </thead>\n",
              "  <tbody>\n",
              "    <tr>\n",
              "      <th>2021-01-05</th>\n",
              "      <td>-0.011054</td>\n",
              "      <td>-0.003948</td>\n",
              "    </tr>\n",
              "    <tr>\n",
              "      <th>2021-01-06</th>\n",
              "      <td>-0.032330</td>\n",
              "      <td>-0.039778</td>\n",
              "    </tr>\n",
              "    <tr>\n",
              "      <th>2021-01-07</th>\n",
              "      <td>-0.011147</td>\n",
              "      <td>0.016644</td>\n",
              "    </tr>\n",
              "    <tr>\n",
              "      <th>2021-01-08</th>\n",
              "      <td>0.022170</td>\n",
              "      <td>0.002963</td>\n",
              "    </tr>\n",
              "    <tr>\n",
              "      <th>2021-01-11</th>\n",
              "      <td>-0.017378</td>\n",
              "      <td>-0.022388</td>\n",
              "    </tr>\n",
              "    <tr>\n",
              "      <th>...</th>\n",
              "      <td>...</td>\n",
              "      <td>...</td>\n",
              "    </tr>\n",
              "    <tr>\n",
              "      <th>2022-12-23</th>\n",
              "      <td>0.007550</td>\n",
              "      <td>-0.009414</td>\n",
              "    </tr>\n",
              "    <tr>\n",
              "      <th>2022-12-27</th>\n",
              "      <td>0.006092</td>\n",
              "      <td>-0.037267</td>\n",
              "    </tr>\n",
              "    <tr>\n",
              "      <th>2022-12-28</th>\n",
              "      <td>-0.010017</td>\n",
              "      <td>-0.025988</td>\n",
              "    </tr>\n",
              "    <tr>\n",
              "      <th>2022-12-29</th>\n",
              "      <td>0.005960</td>\n",
              "      <td>0.050151</td>\n",
              "    </tr>\n",
              "    <tr>\n",
              "      <th>2022-12-30</th>\n",
              "      <td>-0.005331</td>\n",
              "      <td>0.012833</td>\n",
              "    </tr>\n",
              "  </tbody>\n",
              "</table>\n",
              "<p>502 rows × 2 columns</p>\n",
              "</div>\n",
              "      <button class=\"colab-df-convert\" onclick=\"convertToInteractive('df-62815edd-7d2f-4fc7-94e9-932015c3cb5f')\"\n",
              "              title=\"Convert this dataframe to an interactive table.\"\n",
              "              style=\"display:none;\">\n",
              "        \n",
              "  <svg xmlns=\"http://www.w3.org/2000/svg\" height=\"24px\"viewBox=\"0 0 24 24\"\n",
              "       width=\"24px\">\n",
              "    <path d=\"M0 0h24v24H0V0z\" fill=\"none\"/>\n",
              "    <path d=\"M18.56 5.44l.94 2.06.94-2.06 2.06-.94-2.06-.94-.94-2.06-.94 2.06-2.06.94zm-11 1L8.5 8.5l.94-2.06 2.06-.94-2.06-.94L8.5 2.5l-.94 2.06-2.06.94zm10 10l.94 2.06.94-2.06 2.06-.94-2.06-.94-.94-2.06-.94 2.06-2.06.94z\"/><path d=\"M17.41 7.96l-1.37-1.37c-.4-.4-.92-.59-1.43-.59-.52 0-1.04.2-1.43.59L10.3 9.45l-7.72 7.72c-.78.78-.78 2.05 0 2.83L4 21.41c.39.39.9.59 1.41.59.51 0 1.02-.2 1.41-.59l7.78-7.78 2.81-2.81c.8-.78.8-2.07 0-2.86zM5.41 20L4 18.59l7.72-7.72 1.47 1.35L5.41 20z\"/>\n",
              "  </svg>\n",
              "      </button>\n",
              "      \n",
              "  <style>\n",
              "    .colab-df-container {\n",
              "      display:flex;\n",
              "      flex-wrap:wrap;\n",
              "      gap: 12px;\n",
              "    }\n",
              "\n",
              "    .colab-df-convert {\n",
              "      background-color: #E8F0FE;\n",
              "      border: none;\n",
              "      border-radius: 50%;\n",
              "      cursor: pointer;\n",
              "      display: none;\n",
              "      fill: #1967D2;\n",
              "      height: 32px;\n",
              "      padding: 0 0 0 0;\n",
              "      width: 32px;\n",
              "    }\n",
              "\n",
              "    .colab-df-convert:hover {\n",
              "      background-color: #E2EBFA;\n",
              "      box-shadow: 0px 1px 2px rgba(60, 64, 67, 0.3), 0px 1px 3px 1px rgba(60, 64, 67, 0.15);\n",
              "      fill: #174EA6;\n",
              "    }\n",
              "\n",
              "    [theme=dark] .colab-df-convert {\n",
              "      background-color: #3B4455;\n",
              "      fill: #D2E3FC;\n",
              "    }\n",
              "\n",
              "    [theme=dark] .colab-df-convert:hover {\n",
              "      background-color: #434B5C;\n",
              "      box-shadow: 0px 1px 3px 1px rgba(0, 0, 0, 0.15);\n",
              "      filter: drop-shadow(0px 1px 2px rgba(0, 0, 0, 0.3));\n",
              "      fill: #FFFFFF;\n",
              "    }\n",
              "  </style>\n",
              "\n",
              "      <script>\n",
              "        const buttonEl =\n",
              "          document.querySelector('#df-62815edd-7d2f-4fc7-94e9-932015c3cb5f button.colab-df-convert');\n",
              "        buttonEl.style.display =\n",
              "          google.colab.kernel.accessAllowed ? 'block' : 'none';\n",
              "\n",
              "        async function convertToInteractive(key) {\n",
              "          const element = document.querySelector('#df-62815edd-7d2f-4fc7-94e9-932015c3cb5f');\n",
              "          const dataTable =\n",
              "            await google.colab.kernel.invokeFunction('convertToInteractive',\n",
              "                                                     [key], {});\n",
              "          if (!dataTable) return;\n",
              "\n",
              "          const docLinkHtml = 'Like what you see? Visit the ' +\n",
              "            '<a target=\"_blank\" href=https://colab.research.google.com/notebooks/data_table.ipynb>data table notebook</a>'\n",
              "            + ' to learn more about interactive tables.';\n",
              "          element.innerHTML = '';\n",
              "          dataTable['output_type'] = 'display_data';\n",
              "          await google.colab.output.renderOutput(dataTable, element);\n",
              "          const docLink = document.createElement('div');\n",
              "          docLink.innerHTML = docLinkHtml;\n",
              "          element.appendChild(docLink);\n",
              "        }\n",
              "      </script>\n",
              "    </div>\n",
              "  </div>\n",
              "  "
            ]
          },
          "metadata": {},
          "execution_count": 5
        }
      ]
    },
    {
      "cell_type": "code",
      "source": [
        "# Tabla de retornos mensuales\n",
        "r_log_mes"
      ],
      "metadata": {
        "colab": {
          "base_uri": "https://localhost:8080/",
          "height": 802
        },
        "id": "vTGZxlVSIuDB",
        "outputId": "58d69c9f-052e-4003-b40e-efa5782d6efd"
      },
      "execution_count": 6,
      "outputs": [
        {
          "output_type": "execute_result",
          "data": {
            "text/plain": [
              "                  KO      NFLX\n",
              "Date                          \n",
              "2021-02-01  0.017295  0.012061\n",
              "2021-03-01  0.073189 -0.032421\n",
              "2021-04-01  0.032097 -0.015824\n",
              "2021-05-01  0.023978 -0.020979\n",
              "2021-06-01 -0.021573  0.049282\n",
              "2021-07-01  0.060065 -0.020349\n",
              "2021-08-01 -0.012705  0.095070\n",
              "2021-09-01 -0.070631  0.069802\n",
              "2021-10-01  0.079214  0.123125\n",
              "2021-11-01 -0.072077 -0.072708\n",
              "2021-12-01  0.128955 -0.063444\n",
              "2022-01-01  0.029947 -0.343876\n",
              "2022-02-01  0.019960 -0.079442\n",
              "2022-03-01 -0.003863 -0.051838\n",
              "2022-04-01  0.048860 -0.676915\n",
              "2022-05-01 -0.019221  0.036518\n",
              "2022-06-01 -0.007443 -0.121392\n",
              "2022-07-01  0.027030  0.251613\n",
              "2022-08-01 -0.039090 -0.005976\n",
              "2022-09-01 -0.096737  0.051776\n",
              "2022-10-01  0.073397  0.214887\n",
              "2022-11-01  0.060929  0.045705\n",
              "2022-12-01  0.007067 -0.035479"
            ],
            "text/html": [
              "\n",
              "  <div id=\"df-d724078d-dc05-45c6-9fac-4f46d22156ed\">\n",
              "    <div class=\"colab-df-container\">\n",
              "      <div>\n",
              "<style scoped>\n",
              "    .dataframe tbody tr th:only-of-type {\n",
              "        vertical-align: middle;\n",
              "    }\n",
              "\n",
              "    .dataframe tbody tr th {\n",
              "        vertical-align: top;\n",
              "    }\n",
              "\n",
              "    .dataframe thead th {\n",
              "        text-align: right;\n",
              "    }\n",
              "</style>\n",
              "<table border=\"1\" class=\"dataframe\">\n",
              "  <thead>\n",
              "    <tr style=\"text-align: right;\">\n",
              "      <th></th>\n",
              "      <th>KO</th>\n",
              "      <th>NFLX</th>\n",
              "    </tr>\n",
              "    <tr>\n",
              "      <th>Date</th>\n",
              "      <th></th>\n",
              "      <th></th>\n",
              "    </tr>\n",
              "  </thead>\n",
              "  <tbody>\n",
              "    <tr>\n",
              "      <th>2021-02-01</th>\n",
              "      <td>0.017295</td>\n",
              "      <td>0.012061</td>\n",
              "    </tr>\n",
              "    <tr>\n",
              "      <th>2021-03-01</th>\n",
              "      <td>0.073189</td>\n",
              "      <td>-0.032421</td>\n",
              "    </tr>\n",
              "    <tr>\n",
              "      <th>2021-04-01</th>\n",
              "      <td>0.032097</td>\n",
              "      <td>-0.015824</td>\n",
              "    </tr>\n",
              "    <tr>\n",
              "      <th>2021-05-01</th>\n",
              "      <td>0.023978</td>\n",
              "      <td>-0.020979</td>\n",
              "    </tr>\n",
              "    <tr>\n",
              "      <th>2021-06-01</th>\n",
              "      <td>-0.021573</td>\n",
              "      <td>0.049282</td>\n",
              "    </tr>\n",
              "    <tr>\n",
              "      <th>2021-07-01</th>\n",
              "      <td>0.060065</td>\n",
              "      <td>-0.020349</td>\n",
              "    </tr>\n",
              "    <tr>\n",
              "      <th>2021-08-01</th>\n",
              "      <td>-0.012705</td>\n",
              "      <td>0.095070</td>\n",
              "    </tr>\n",
              "    <tr>\n",
              "      <th>2021-09-01</th>\n",
              "      <td>-0.070631</td>\n",
              "      <td>0.069802</td>\n",
              "    </tr>\n",
              "    <tr>\n",
              "      <th>2021-10-01</th>\n",
              "      <td>0.079214</td>\n",
              "      <td>0.123125</td>\n",
              "    </tr>\n",
              "    <tr>\n",
              "      <th>2021-11-01</th>\n",
              "      <td>-0.072077</td>\n",
              "      <td>-0.072708</td>\n",
              "    </tr>\n",
              "    <tr>\n",
              "      <th>2021-12-01</th>\n",
              "      <td>0.128955</td>\n",
              "      <td>-0.063444</td>\n",
              "    </tr>\n",
              "    <tr>\n",
              "      <th>2022-01-01</th>\n",
              "      <td>0.029947</td>\n",
              "      <td>-0.343876</td>\n",
              "    </tr>\n",
              "    <tr>\n",
              "      <th>2022-02-01</th>\n",
              "      <td>0.019960</td>\n",
              "      <td>-0.079442</td>\n",
              "    </tr>\n",
              "    <tr>\n",
              "      <th>2022-03-01</th>\n",
              "      <td>-0.003863</td>\n",
              "      <td>-0.051838</td>\n",
              "    </tr>\n",
              "    <tr>\n",
              "      <th>2022-04-01</th>\n",
              "      <td>0.048860</td>\n",
              "      <td>-0.676915</td>\n",
              "    </tr>\n",
              "    <tr>\n",
              "      <th>2022-05-01</th>\n",
              "      <td>-0.019221</td>\n",
              "      <td>0.036518</td>\n",
              "    </tr>\n",
              "    <tr>\n",
              "      <th>2022-06-01</th>\n",
              "      <td>-0.007443</td>\n",
              "      <td>-0.121392</td>\n",
              "    </tr>\n",
              "    <tr>\n",
              "      <th>2022-07-01</th>\n",
              "      <td>0.027030</td>\n",
              "      <td>0.251613</td>\n",
              "    </tr>\n",
              "    <tr>\n",
              "      <th>2022-08-01</th>\n",
              "      <td>-0.039090</td>\n",
              "      <td>-0.005976</td>\n",
              "    </tr>\n",
              "    <tr>\n",
              "      <th>2022-09-01</th>\n",
              "      <td>-0.096737</td>\n",
              "      <td>0.051776</td>\n",
              "    </tr>\n",
              "    <tr>\n",
              "      <th>2022-10-01</th>\n",
              "      <td>0.073397</td>\n",
              "      <td>0.214887</td>\n",
              "    </tr>\n",
              "    <tr>\n",
              "      <th>2022-11-01</th>\n",
              "      <td>0.060929</td>\n",
              "      <td>0.045705</td>\n",
              "    </tr>\n",
              "    <tr>\n",
              "      <th>2022-12-01</th>\n",
              "      <td>0.007067</td>\n",
              "      <td>-0.035479</td>\n",
              "    </tr>\n",
              "  </tbody>\n",
              "</table>\n",
              "</div>\n",
              "      <button class=\"colab-df-convert\" onclick=\"convertToInteractive('df-d724078d-dc05-45c6-9fac-4f46d22156ed')\"\n",
              "              title=\"Convert this dataframe to an interactive table.\"\n",
              "              style=\"display:none;\">\n",
              "        \n",
              "  <svg xmlns=\"http://www.w3.org/2000/svg\" height=\"24px\"viewBox=\"0 0 24 24\"\n",
              "       width=\"24px\">\n",
              "    <path d=\"M0 0h24v24H0V0z\" fill=\"none\"/>\n",
              "    <path d=\"M18.56 5.44l.94 2.06.94-2.06 2.06-.94-2.06-.94-.94-2.06-.94 2.06-2.06.94zm-11 1L8.5 8.5l.94-2.06 2.06-.94-2.06-.94L8.5 2.5l-.94 2.06-2.06.94zm10 10l.94 2.06.94-2.06 2.06-.94-2.06-.94-.94-2.06-.94 2.06-2.06.94z\"/><path d=\"M17.41 7.96l-1.37-1.37c-.4-.4-.92-.59-1.43-.59-.52 0-1.04.2-1.43.59L10.3 9.45l-7.72 7.72c-.78.78-.78 2.05 0 2.83L4 21.41c.39.39.9.59 1.41.59.51 0 1.02-.2 1.41-.59l7.78-7.78 2.81-2.81c.8-.78.8-2.07 0-2.86zM5.41 20L4 18.59l7.72-7.72 1.47 1.35L5.41 20z\"/>\n",
              "  </svg>\n",
              "      </button>\n",
              "      \n",
              "  <style>\n",
              "    .colab-df-container {\n",
              "      display:flex;\n",
              "      flex-wrap:wrap;\n",
              "      gap: 12px;\n",
              "    }\n",
              "\n",
              "    .colab-df-convert {\n",
              "      background-color: #E8F0FE;\n",
              "      border: none;\n",
              "      border-radius: 50%;\n",
              "      cursor: pointer;\n",
              "      display: none;\n",
              "      fill: #1967D2;\n",
              "      height: 32px;\n",
              "      padding: 0 0 0 0;\n",
              "      width: 32px;\n",
              "    }\n",
              "\n",
              "    .colab-df-convert:hover {\n",
              "      background-color: #E2EBFA;\n",
              "      box-shadow: 0px 1px 2px rgba(60, 64, 67, 0.3), 0px 1px 3px 1px rgba(60, 64, 67, 0.15);\n",
              "      fill: #174EA6;\n",
              "    }\n",
              "\n",
              "    [theme=dark] .colab-df-convert {\n",
              "      background-color: #3B4455;\n",
              "      fill: #D2E3FC;\n",
              "    }\n",
              "\n",
              "    [theme=dark] .colab-df-convert:hover {\n",
              "      background-color: #434B5C;\n",
              "      box-shadow: 0px 1px 3px 1px rgba(0, 0, 0, 0.15);\n",
              "      filter: drop-shadow(0px 1px 2px rgba(0, 0, 0, 0.3));\n",
              "      fill: #FFFFFF;\n",
              "    }\n",
              "  </style>\n",
              "\n",
              "      <script>\n",
              "        const buttonEl =\n",
              "          document.querySelector('#df-d724078d-dc05-45c6-9fac-4f46d22156ed button.colab-df-convert');\n",
              "        buttonEl.style.display =\n",
              "          google.colab.kernel.accessAllowed ? 'block' : 'none';\n",
              "\n",
              "        async function convertToInteractive(key) {\n",
              "          const element = document.querySelector('#df-d724078d-dc05-45c6-9fac-4f46d22156ed');\n",
              "          const dataTable =\n",
              "            await google.colab.kernel.invokeFunction('convertToInteractive',\n",
              "                                                     [key], {});\n",
              "          if (!dataTable) return;\n",
              "\n",
              "          const docLinkHtml = 'Like what you see? Visit the ' +\n",
              "            '<a target=\"_blank\" href=https://colab.research.google.com/notebooks/data_table.ipynb>data table notebook</a>'\n",
              "            + ' to learn more about interactive tables.';\n",
              "          element.innerHTML = '';\n",
              "          dataTable['output_type'] = 'display_data';\n",
              "          await google.colab.output.renderOutput(dataTable, element);\n",
              "          const docLink = document.createElement('div');\n",
              "          docLink.innerHTML = docLinkHtml;\n",
              "          element.appendChild(docLink);\n",
              "        }\n",
              "      </script>\n",
              "    </div>\n",
              "  </div>\n",
              "  "
            ]
          },
          "metadata": {},
          "execution_count": 6
        }
      ]
    },
    {
      "cell_type": "code",
      "source": [
        "# Tabla de retornos anuales\n",
        "r_log_año"
      ],
      "metadata": {
        "colab": {
          "base_uri": "https://localhost:8080/",
          "height": 112
        },
        "id": "J5iixRQbIv2U",
        "outputId": "dea58d9b-6533-4128-ee3f-bffd10748540"
      },
      "execution_count": 7,
      "outputs": [
        {
          "output_type": "execute_result",
          "data": {
            "text/plain": [
              "                  KO     NFLX\n",
              "Date                         \n",
              "2022-12-31  0.100836 -0.71442"
            ],
            "text/html": [
              "\n",
              "  <div id=\"df-3b5d08c7-b7f1-460a-adc8-1b7da42d0ba9\">\n",
              "    <div class=\"colab-df-container\">\n",
              "      <div>\n",
              "<style scoped>\n",
              "    .dataframe tbody tr th:only-of-type {\n",
              "        vertical-align: middle;\n",
              "    }\n",
              "\n",
              "    .dataframe tbody tr th {\n",
              "        vertical-align: top;\n",
              "    }\n",
              "\n",
              "    .dataframe thead th {\n",
              "        text-align: right;\n",
              "    }\n",
              "</style>\n",
              "<table border=\"1\" class=\"dataframe\">\n",
              "  <thead>\n",
              "    <tr style=\"text-align: right;\">\n",
              "      <th></th>\n",
              "      <th>KO</th>\n",
              "      <th>NFLX</th>\n",
              "    </tr>\n",
              "    <tr>\n",
              "      <th>Date</th>\n",
              "      <th></th>\n",
              "      <th></th>\n",
              "    </tr>\n",
              "  </thead>\n",
              "  <tbody>\n",
              "    <tr>\n",
              "      <th>2022-12-31</th>\n",
              "      <td>0.100836</td>\n",
              "      <td>-0.71442</td>\n",
              "    </tr>\n",
              "  </tbody>\n",
              "</table>\n",
              "</div>\n",
              "      <button class=\"colab-df-convert\" onclick=\"convertToInteractive('df-3b5d08c7-b7f1-460a-adc8-1b7da42d0ba9')\"\n",
              "              title=\"Convert this dataframe to an interactive table.\"\n",
              "              style=\"display:none;\">\n",
              "        \n",
              "  <svg xmlns=\"http://www.w3.org/2000/svg\" height=\"24px\"viewBox=\"0 0 24 24\"\n",
              "       width=\"24px\">\n",
              "    <path d=\"M0 0h24v24H0V0z\" fill=\"none\"/>\n",
              "    <path d=\"M18.56 5.44l.94 2.06.94-2.06 2.06-.94-2.06-.94-.94-2.06-.94 2.06-2.06.94zm-11 1L8.5 8.5l.94-2.06 2.06-.94-2.06-.94L8.5 2.5l-.94 2.06-2.06.94zm10 10l.94 2.06.94-2.06 2.06-.94-2.06-.94-.94-2.06-.94 2.06-2.06.94z\"/><path d=\"M17.41 7.96l-1.37-1.37c-.4-.4-.92-.59-1.43-.59-.52 0-1.04.2-1.43.59L10.3 9.45l-7.72 7.72c-.78.78-.78 2.05 0 2.83L4 21.41c.39.39.9.59 1.41.59.51 0 1.02-.2 1.41-.59l7.78-7.78 2.81-2.81c.8-.78.8-2.07 0-2.86zM5.41 20L4 18.59l7.72-7.72 1.47 1.35L5.41 20z\"/>\n",
              "  </svg>\n",
              "      </button>\n",
              "      \n",
              "  <style>\n",
              "    .colab-df-container {\n",
              "      display:flex;\n",
              "      flex-wrap:wrap;\n",
              "      gap: 12px;\n",
              "    }\n",
              "\n",
              "    .colab-df-convert {\n",
              "      background-color: #E8F0FE;\n",
              "      border: none;\n",
              "      border-radius: 50%;\n",
              "      cursor: pointer;\n",
              "      display: none;\n",
              "      fill: #1967D2;\n",
              "      height: 32px;\n",
              "      padding: 0 0 0 0;\n",
              "      width: 32px;\n",
              "    }\n",
              "\n",
              "    .colab-df-convert:hover {\n",
              "      background-color: #E2EBFA;\n",
              "      box-shadow: 0px 1px 2px rgba(60, 64, 67, 0.3), 0px 1px 3px 1px rgba(60, 64, 67, 0.15);\n",
              "      fill: #174EA6;\n",
              "    }\n",
              "\n",
              "    [theme=dark] .colab-df-convert {\n",
              "      background-color: #3B4455;\n",
              "      fill: #D2E3FC;\n",
              "    }\n",
              "\n",
              "    [theme=dark] .colab-df-convert:hover {\n",
              "      background-color: #434B5C;\n",
              "      box-shadow: 0px 1px 3px 1px rgba(0, 0, 0, 0.15);\n",
              "      filter: drop-shadow(0px 1px 2px rgba(0, 0, 0, 0.3));\n",
              "      fill: #FFFFFF;\n",
              "    }\n",
              "  </style>\n",
              "\n",
              "      <script>\n",
              "        const buttonEl =\n",
              "          document.querySelector('#df-3b5d08c7-b7f1-460a-adc8-1b7da42d0ba9 button.colab-df-convert');\n",
              "        buttonEl.style.display =\n",
              "          google.colab.kernel.accessAllowed ? 'block' : 'none';\n",
              "\n",
              "        async function convertToInteractive(key) {\n",
              "          const element = document.querySelector('#df-3b5d08c7-b7f1-460a-adc8-1b7da42d0ba9');\n",
              "          const dataTable =\n",
              "            await google.colab.kernel.invokeFunction('convertToInteractive',\n",
              "                                                     [key], {});\n",
              "          if (!dataTable) return;\n",
              "\n",
              "          const docLinkHtml = 'Like what you see? Visit the ' +\n",
              "            '<a target=\"_blank\" href=https://colab.research.google.com/notebooks/data_table.ipynb>data table notebook</a>'\n",
              "            + ' to learn more about interactive tables.';\n",
              "          element.innerHTML = '';\n",
              "          dataTable['output_type'] = 'display_data';\n",
              "          await google.colab.output.renderOutput(dataTable, element);\n",
              "          const docLink = document.createElement('div');\n",
              "          docLink.innerHTML = docLinkHtml;\n",
              "          element.appendChild(docLink);\n",
              "        }\n",
              "      </script>\n",
              "    </div>\n",
              "  </div>\n",
              "  "
            ]
          },
          "metadata": {},
          "execution_count": 7
        }
      ]
    },
    {
      "cell_type": "code",
      "source": [
        "# Retornos esperados anualizados diarioas\n",
        "rd_esperados = np.log(1+r_log_diarios)\n",
        "rd_esperados*np.sqrt(252)"
      ],
      "metadata": {
        "colab": {
          "base_uri": "https://localhost:8080/",
          "height": 455
        },
        "id": "gSPSs1mprvkx",
        "outputId": "351944c5-0a56-4afa-d63b-921a39ae3eab"
      },
      "execution_count": 8,
      "outputs": [
        {
          "output_type": "execute_result",
          "data": {
            "text/plain": [
              "                  KO      NFLX\n",
              "Date                          \n",
              "2021-01-05 -0.176454 -0.062791\n",
              "2021-01-06 -0.521702 -0.644366\n",
              "2021-01-07 -0.177940  0.262045\n",
              "2021-01-08  0.348098  0.046964\n",
              "2021-01-11 -0.278294 -0.359441\n",
              "...              ...       ...\n",
              "2022-12-23  0.119396 -0.150158\n",
              "2022-12-27  0.096419 -0.602901\n",
              "2022-12-28 -0.159821 -0.418010\n",
              "2022-12-29  0.094329  0.776807\n",
              "2022-12-30 -0.084851  0.202421\n",
              "\n",
              "[502 rows x 2 columns]"
            ],
            "text/html": [
              "\n",
              "  <div id=\"df-953abe8e-6ff4-4634-8cc2-9b679abc60f7\">\n",
              "    <div class=\"colab-df-container\">\n",
              "      <div>\n",
              "<style scoped>\n",
              "    .dataframe tbody tr th:only-of-type {\n",
              "        vertical-align: middle;\n",
              "    }\n",
              "\n",
              "    .dataframe tbody tr th {\n",
              "        vertical-align: top;\n",
              "    }\n",
              "\n",
              "    .dataframe thead th {\n",
              "        text-align: right;\n",
              "    }\n",
              "</style>\n",
              "<table border=\"1\" class=\"dataframe\">\n",
              "  <thead>\n",
              "    <tr style=\"text-align: right;\">\n",
              "      <th></th>\n",
              "      <th>KO</th>\n",
              "      <th>NFLX</th>\n",
              "    </tr>\n",
              "    <tr>\n",
              "      <th>Date</th>\n",
              "      <th></th>\n",
              "      <th></th>\n",
              "    </tr>\n",
              "  </thead>\n",
              "  <tbody>\n",
              "    <tr>\n",
              "      <th>2021-01-05</th>\n",
              "      <td>-0.176454</td>\n",
              "      <td>-0.062791</td>\n",
              "    </tr>\n",
              "    <tr>\n",
              "      <th>2021-01-06</th>\n",
              "      <td>-0.521702</td>\n",
              "      <td>-0.644366</td>\n",
              "    </tr>\n",
              "    <tr>\n",
              "      <th>2021-01-07</th>\n",
              "      <td>-0.177940</td>\n",
              "      <td>0.262045</td>\n",
              "    </tr>\n",
              "    <tr>\n",
              "      <th>2021-01-08</th>\n",
              "      <td>0.348098</td>\n",
              "      <td>0.046964</td>\n",
              "    </tr>\n",
              "    <tr>\n",
              "      <th>2021-01-11</th>\n",
              "      <td>-0.278294</td>\n",
              "      <td>-0.359441</td>\n",
              "    </tr>\n",
              "    <tr>\n",
              "      <th>...</th>\n",
              "      <td>...</td>\n",
              "      <td>...</td>\n",
              "    </tr>\n",
              "    <tr>\n",
              "      <th>2022-12-23</th>\n",
              "      <td>0.119396</td>\n",
              "      <td>-0.150158</td>\n",
              "    </tr>\n",
              "    <tr>\n",
              "      <th>2022-12-27</th>\n",
              "      <td>0.096419</td>\n",
              "      <td>-0.602901</td>\n",
              "    </tr>\n",
              "    <tr>\n",
              "      <th>2022-12-28</th>\n",
              "      <td>-0.159821</td>\n",
              "      <td>-0.418010</td>\n",
              "    </tr>\n",
              "    <tr>\n",
              "      <th>2022-12-29</th>\n",
              "      <td>0.094329</td>\n",
              "      <td>0.776807</td>\n",
              "    </tr>\n",
              "    <tr>\n",
              "      <th>2022-12-30</th>\n",
              "      <td>-0.084851</td>\n",
              "      <td>0.202421</td>\n",
              "    </tr>\n",
              "  </tbody>\n",
              "</table>\n",
              "<p>502 rows × 2 columns</p>\n",
              "</div>\n",
              "      <button class=\"colab-df-convert\" onclick=\"convertToInteractive('df-953abe8e-6ff4-4634-8cc2-9b679abc60f7')\"\n",
              "              title=\"Convert this dataframe to an interactive table.\"\n",
              "              style=\"display:none;\">\n",
              "        \n",
              "  <svg xmlns=\"http://www.w3.org/2000/svg\" height=\"24px\"viewBox=\"0 0 24 24\"\n",
              "       width=\"24px\">\n",
              "    <path d=\"M0 0h24v24H0V0z\" fill=\"none\"/>\n",
              "    <path d=\"M18.56 5.44l.94 2.06.94-2.06 2.06-.94-2.06-.94-.94-2.06-.94 2.06-2.06.94zm-11 1L8.5 8.5l.94-2.06 2.06-.94-2.06-.94L8.5 2.5l-.94 2.06-2.06.94zm10 10l.94 2.06.94-2.06 2.06-.94-2.06-.94-.94-2.06-.94 2.06-2.06.94z\"/><path d=\"M17.41 7.96l-1.37-1.37c-.4-.4-.92-.59-1.43-.59-.52 0-1.04.2-1.43.59L10.3 9.45l-7.72 7.72c-.78.78-.78 2.05 0 2.83L4 21.41c.39.39.9.59 1.41.59.51 0 1.02-.2 1.41-.59l7.78-7.78 2.81-2.81c.8-.78.8-2.07 0-2.86zM5.41 20L4 18.59l7.72-7.72 1.47 1.35L5.41 20z\"/>\n",
              "  </svg>\n",
              "      </button>\n",
              "      \n",
              "  <style>\n",
              "    .colab-df-container {\n",
              "      display:flex;\n",
              "      flex-wrap:wrap;\n",
              "      gap: 12px;\n",
              "    }\n",
              "\n",
              "    .colab-df-convert {\n",
              "      background-color: #E8F0FE;\n",
              "      border: none;\n",
              "      border-radius: 50%;\n",
              "      cursor: pointer;\n",
              "      display: none;\n",
              "      fill: #1967D2;\n",
              "      height: 32px;\n",
              "      padding: 0 0 0 0;\n",
              "      width: 32px;\n",
              "    }\n",
              "\n",
              "    .colab-df-convert:hover {\n",
              "      background-color: #E2EBFA;\n",
              "      box-shadow: 0px 1px 2px rgba(60, 64, 67, 0.3), 0px 1px 3px 1px rgba(60, 64, 67, 0.15);\n",
              "      fill: #174EA6;\n",
              "    }\n",
              "\n",
              "    [theme=dark] .colab-df-convert {\n",
              "      background-color: #3B4455;\n",
              "      fill: #D2E3FC;\n",
              "    }\n",
              "\n",
              "    [theme=dark] .colab-df-convert:hover {\n",
              "      background-color: #434B5C;\n",
              "      box-shadow: 0px 1px 3px 1px rgba(0, 0, 0, 0.15);\n",
              "      filter: drop-shadow(0px 1px 2px rgba(0, 0, 0, 0.3));\n",
              "      fill: #FFFFFF;\n",
              "    }\n",
              "  </style>\n",
              "\n",
              "      <script>\n",
              "        const buttonEl =\n",
              "          document.querySelector('#df-953abe8e-6ff4-4634-8cc2-9b679abc60f7 button.colab-df-convert');\n",
              "        buttonEl.style.display =\n",
              "          google.colab.kernel.accessAllowed ? 'block' : 'none';\n",
              "\n",
              "        async function convertToInteractive(key) {\n",
              "          const element = document.querySelector('#df-953abe8e-6ff4-4634-8cc2-9b679abc60f7');\n",
              "          const dataTable =\n",
              "            await google.colab.kernel.invokeFunction('convertToInteractive',\n",
              "                                                     [key], {});\n",
              "          if (!dataTable) return;\n",
              "\n",
              "          const docLinkHtml = 'Like what you see? Visit the ' +\n",
              "            '<a target=\"_blank\" href=https://colab.research.google.com/notebooks/data_table.ipynb>data table notebook</a>'\n",
              "            + ' to learn more about interactive tables.';\n",
              "          element.innerHTML = '';\n",
              "          dataTable['output_type'] = 'display_data';\n",
              "          await google.colab.output.renderOutput(dataTable, element);\n",
              "          const docLink = document.createElement('div');\n",
              "          docLink.innerHTML = docLinkHtml;\n",
              "          element.appendChild(docLink);\n",
              "        }\n",
              "      </script>\n",
              "    </div>\n",
              "  </div>\n",
              "  "
            ]
          },
          "metadata": {},
          "execution_count": 8
        }
      ]
    },
    {
      "cell_type": "code",
      "source": [
        "# Retornos esperados anualizados mensuales\n",
        "rm_esperados = np.log(1+r_log_mes)\n",
        "rm_esperados*np.sqrt(12)"
      ],
      "metadata": {
        "colab": {
          "base_uri": "https://localhost:8080/",
          "height": 802
        },
        "id": "0HnXTbSxuBvb",
        "outputId": "c435310f-0dae-4297-8860-eca190ab1979"
      },
      "execution_count": 9,
      "outputs": [
        {
          "output_type": "execute_result",
          "data": {
            "text/plain": [
              "                  KO      NFLX\n",
              "Date                          \n",
              "2021-02-01  0.059399  0.041530\n",
              "2021-03-01  0.244686 -0.114171\n",
              "2021-04-01  0.109441 -0.055256\n",
              "2021-05-01  0.082084 -0.073447\n",
              "2021-06-01 -0.075549  0.166643\n",
              "2021-07-01  0.202062 -0.071219\n",
              "2021-08-01 -0.044294  0.314602\n",
              "2021-09-01 -0.253742  0.233735\n",
              "2021-10-01  0.264080  0.402233\n",
              "2021-11-01 -0.259137 -0.261495\n",
              "2021-12-01  0.420169 -0.227060\n",
              "2022-01-01  0.102218 -1.459793\n",
              "2022-02-01  0.068463 -0.286742\n",
              "2022-03-01 -0.013409 -0.184393\n",
              "2022-04-01  0.165252 -3.913881\n",
              "2022-05-01 -0.067231  0.124246\n",
              "2022-06-01 -0.025880 -0.448311\n",
              "2022-07-01  0.092390  0.777459\n",
              "2022-08-01 -0.138129 -0.020764\n",
              "2022-09-01 -0.352444  0.174869\n",
              "2022-10-01  0.245357  0.674290\n",
              "2022-11-01  0.204885  0.154816\n",
              "2022-12-01  0.024395 -0.125138"
            ],
            "text/html": [
              "\n",
              "  <div id=\"df-e3de0b17-9808-48e3-b87c-ab0794d22ff5\">\n",
              "    <div class=\"colab-df-container\">\n",
              "      <div>\n",
              "<style scoped>\n",
              "    .dataframe tbody tr th:only-of-type {\n",
              "        vertical-align: middle;\n",
              "    }\n",
              "\n",
              "    .dataframe tbody tr th {\n",
              "        vertical-align: top;\n",
              "    }\n",
              "\n",
              "    .dataframe thead th {\n",
              "        text-align: right;\n",
              "    }\n",
              "</style>\n",
              "<table border=\"1\" class=\"dataframe\">\n",
              "  <thead>\n",
              "    <tr style=\"text-align: right;\">\n",
              "      <th></th>\n",
              "      <th>KO</th>\n",
              "      <th>NFLX</th>\n",
              "    </tr>\n",
              "    <tr>\n",
              "      <th>Date</th>\n",
              "      <th></th>\n",
              "      <th></th>\n",
              "    </tr>\n",
              "  </thead>\n",
              "  <tbody>\n",
              "    <tr>\n",
              "      <th>2021-02-01</th>\n",
              "      <td>0.059399</td>\n",
              "      <td>0.041530</td>\n",
              "    </tr>\n",
              "    <tr>\n",
              "      <th>2021-03-01</th>\n",
              "      <td>0.244686</td>\n",
              "      <td>-0.114171</td>\n",
              "    </tr>\n",
              "    <tr>\n",
              "      <th>2021-04-01</th>\n",
              "      <td>0.109441</td>\n",
              "      <td>-0.055256</td>\n",
              "    </tr>\n",
              "    <tr>\n",
              "      <th>2021-05-01</th>\n",
              "      <td>0.082084</td>\n",
              "      <td>-0.073447</td>\n",
              "    </tr>\n",
              "    <tr>\n",
              "      <th>2021-06-01</th>\n",
              "      <td>-0.075549</td>\n",
              "      <td>0.166643</td>\n",
              "    </tr>\n",
              "    <tr>\n",
              "      <th>2021-07-01</th>\n",
              "      <td>0.202062</td>\n",
              "      <td>-0.071219</td>\n",
              "    </tr>\n",
              "    <tr>\n",
              "      <th>2021-08-01</th>\n",
              "      <td>-0.044294</td>\n",
              "      <td>0.314602</td>\n",
              "    </tr>\n",
              "    <tr>\n",
              "      <th>2021-09-01</th>\n",
              "      <td>-0.253742</td>\n",
              "      <td>0.233735</td>\n",
              "    </tr>\n",
              "    <tr>\n",
              "      <th>2021-10-01</th>\n",
              "      <td>0.264080</td>\n",
              "      <td>0.402233</td>\n",
              "    </tr>\n",
              "    <tr>\n",
              "      <th>2021-11-01</th>\n",
              "      <td>-0.259137</td>\n",
              "      <td>-0.261495</td>\n",
              "    </tr>\n",
              "    <tr>\n",
              "      <th>2021-12-01</th>\n",
              "      <td>0.420169</td>\n",
              "      <td>-0.227060</td>\n",
              "    </tr>\n",
              "    <tr>\n",
              "      <th>2022-01-01</th>\n",
              "      <td>0.102218</td>\n",
              "      <td>-1.459793</td>\n",
              "    </tr>\n",
              "    <tr>\n",
              "      <th>2022-02-01</th>\n",
              "      <td>0.068463</td>\n",
              "      <td>-0.286742</td>\n",
              "    </tr>\n",
              "    <tr>\n",
              "      <th>2022-03-01</th>\n",
              "      <td>-0.013409</td>\n",
              "      <td>-0.184393</td>\n",
              "    </tr>\n",
              "    <tr>\n",
              "      <th>2022-04-01</th>\n",
              "      <td>0.165252</td>\n",
              "      <td>-3.913881</td>\n",
              "    </tr>\n",
              "    <tr>\n",
              "      <th>2022-05-01</th>\n",
              "      <td>-0.067231</td>\n",
              "      <td>0.124246</td>\n",
              "    </tr>\n",
              "    <tr>\n",
              "      <th>2022-06-01</th>\n",
              "      <td>-0.025880</td>\n",
              "      <td>-0.448311</td>\n",
              "    </tr>\n",
              "    <tr>\n",
              "      <th>2022-07-01</th>\n",
              "      <td>0.092390</td>\n",
              "      <td>0.777459</td>\n",
              "    </tr>\n",
              "    <tr>\n",
              "      <th>2022-08-01</th>\n",
              "      <td>-0.138129</td>\n",
              "      <td>-0.020764</td>\n",
              "    </tr>\n",
              "    <tr>\n",
              "      <th>2022-09-01</th>\n",
              "      <td>-0.352444</td>\n",
              "      <td>0.174869</td>\n",
              "    </tr>\n",
              "    <tr>\n",
              "      <th>2022-10-01</th>\n",
              "      <td>0.245357</td>\n",
              "      <td>0.674290</td>\n",
              "    </tr>\n",
              "    <tr>\n",
              "      <th>2022-11-01</th>\n",
              "      <td>0.204885</td>\n",
              "      <td>0.154816</td>\n",
              "    </tr>\n",
              "    <tr>\n",
              "      <th>2022-12-01</th>\n",
              "      <td>0.024395</td>\n",
              "      <td>-0.125138</td>\n",
              "    </tr>\n",
              "  </tbody>\n",
              "</table>\n",
              "</div>\n",
              "      <button class=\"colab-df-convert\" onclick=\"convertToInteractive('df-e3de0b17-9808-48e3-b87c-ab0794d22ff5')\"\n",
              "              title=\"Convert this dataframe to an interactive table.\"\n",
              "              style=\"display:none;\">\n",
              "        \n",
              "  <svg xmlns=\"http://www.w3.org/2000/svg\" height=\"24px\"viewBox=\"0 0 24 24\"\n",
              "       width=\"24px\">\n",
              "    <path d=\"M0 0h24v24H0V0z\" fill=\"none\"/>\n",
              "    <path d=\"M18.56 5.44l.94 2.06.94-2.06 2.06-.94-2.06-.94-.94-2.06-.94 2.06-2.06.94zm-11 1L8.5 8.5l.94-2.06 2.06-.94-2.06-.94L8.5 2.5l-.94 2.06-2.06.94zm10 10l.94 2.06.94-2.06 2.06-.94-2.06-.94-.94-2.06-.94 2.06-2.06.94z\"/><path d=\"M17.41 7.96l-1.37-1.37c-.4-.4-.92-.59-1.43-.59-.52 0-1.04.2-1.43.59L10.3 9.45l-7.72 7.72c-.78.78-.78 2.05 0 2.83L4 21.41c.39.39.9.59 1.41.59.51 0 1.02-.2 1.41-.59l7.78-7.78 2.81-2.81c.8-.78.8-2.07 0-2.86zM5.41 20L4 18.59l7.72-7.72 1.47 1.35L5.41 20z\"/>\n",
              "  </svg>\n",
              "      </button>\n",
              "      \n",
              "  <style>\n",
              "    .colab-df-container {\n",
              "      display:flex;\n",
              "      flex-wrap:wrap;\n",
              "      gap: 12px;\n",
              "    }\n",
              "\n",
              "    .colab-df-convert {\n",
              "      background-color: #E8F0FE;\n",
              "      border: none;\n",
              "      border-radius: 50%;\n",
              "      cursor: pointer;\n",
              "      display: none;\n",
              "      fill: #1967D2;\n",
              "      height: 32px;\n",
              "      padding: 0 0 0 0;\n",
              "      width: 32px;\n",
              "    }\n",
              "\n",
              "    .colab-df-convert:hover {\n",
              "      background-color: #E2EBFA;\n",
              "      box-shadow: 0px 1px 2px rgba(60, 64, 67, 0.3), 0px 1px 3px 1px rgba(60, 64, 67, 0.15);\n",
              "      fill: #174EA6;\n",
              "    }\n",
              "\n",
              "    [theme=dark] .colab-df-convert {\n",
              "      background-color: #3B4455;\n",
              "      fill: #D2E3FC;\n",
              "    }\n",
              "\n",
              "    [theme=dark] .colab-df-convert:hover {\n",
              "      background-color: #434B5C;\n",
              "      box-shadow: 0px 1px 3px 1px rgba(0, 0, 0, 0.15);\n",
              "      filter: drop-shadow(0px 1px 2px rgba(0, 0, 0, 0.3));\n",
              "      fill: #FFFFFF;\n",
              "    }\n",
              "  </style>\n",
              "\n",
              "      <script>\n",
              "        const buttonEl =\n",
              "          document.querySelector('#df-e3de0b17-9808-48e3-b87c-ab0794d22ff5 button.colab-df-convert');\n",
              "        buttonEl.style.display =\n",
              "          google.colab.kernel.accessAllowed ? 'block' : 'none';\n",
              "\n",
              "        async function convertToInteractive(key) {\n",
              "          const element = document.querySelector('#df-e3de0b17-9808-48e3-b87c-ab0794d22ff5');\n",
              "          const dataTable =\n",
              "            await google.colab.kernel.invokeFunction('convertToInteractive',\n",
              "                                                     [key], {});\n",
              "          if (!dataTable) return;\n",
              "\n",
              "          const docLinkHtml = 'Like what you see? Visit the ' +\n",
              "            '<a target=\"_blank\" href=https://colab.research.google.com/notebooks/data_table.ipynb>data table notebook</a>'\n",
              "            + ' to learn more about interactive tables.';\n",
              "          element.innerHTML = '';\n",
              "          dataTable['output_type'] = 'display_data';\n",
              "          await google.colab.output.renderOutput(dataTable, element);\n",
              "          const docLink = document.createElement('div');\n",
              "          docLink.innerHTML = docLinkHtml;\n",
              "          element.appendChild(docLink);\n",
              "        }\n",
              "      </script>\n",
              "    </div>\n",
              "  </div>\n",
              "  "
            ]
          },
          "metadata": {},
          "execution_count": 9
        }
      ]
    },
    {
      "cell_type": "code",
      "source": [
        "# Retornos esperados anualizados\n",
        "np.log(1+r_log_año)"
      ],
      "metadata": {
        "colab": {
          "base_uri": "https://localhost:8080/",
          "height": 112
        },
        "id": "xurdb-hgt96a",
        "outputId": "46ffdd08-8e39-408f-ffdd-2d92eac080b9"
      },
      "execution_count": 10,
      "outputs": [
        {
          "output_type": "execute_result",
          "data": {
            "text/plain": [
              "                 KO      NFLX\n",
              "Date                         \n",
              "2022-12-31  0.09607 -1.253232"
            ],
            "text/html": [
              "\n",
              "  <div id=\"df-220bb1f9-4125-453b-9fc4-3efa1c495a5e\">\n",
              "    <div class=\"colab-df-container\">\n",
              "      <div>\n",
              "<style scoped>\n",
              "    .dataframe tbody tr th:only-of-type {\n",
              "        vertical-align: middle;\n",
              "    }\n",
              "\n",
              "    .dataframe tbody tr th {\n",
              "        vertical-align: top;\n",
              "    }\n",
              "\n",
              "    .dataframe thead th {\n",
              "        text-align: right;\n",
              "    }\n",
              "</style>\n",
              "<table border=\"1\" class=\"dataframe\">\n",
              "  <thead>\n",
              "    <tr style=\"text-align: right;\">\n",
              "      <th></th>\n",
              "      <th>KO</th>\n",
              "      <th>NFLX</th>\n",
              "    </tr>\n",
              "    <tr>\n",
              "      <th>Date</th>\n",
              "      <th></th>\n",
              "      <th></th>\n",
              "    </tr>\n",
              "  </thead>\n",
              "  <tbody>\n",
              "    <tr>\n",
              "      <th>2022-12-31</th>\n",
              "      <td>0.09607</td>\n",
              "      <td>-1.253232</td>\n",
              "    </tr>\n",
              "  </tbody>\n",
              "</table>\n",
              "</div>\n",
              "      <button class=\"colab-df-convert\" onclick=\"convertToInteractive('df-220bb1f9-4125-453b-9fc4-3efa1c495a5e')\"\n",
              "              title=\"Convert this dataframe to an interactive table.\"\n",
              "              style=\"display:none;\">\n",
              "        \n",
              "  <svg xmlns=\"http://www.w3.org/2000/svg\" height=\"24px\"viewBox=\"0 0 24 24\"\n",
              "       width=\"24px\">\n",
              "    <path d=\"M0 0h24v24H0V0z\" fill=\"none\"/>\n",
              "    <path d=\"M18.56 5.44l.94 2.06.94-2.06 2.06-.94-2.06-.94-.94-2.06-.94 2.06-2.06.94zm-11 1L8.5 8.5l.94-2.06 2.06-.94-2.06-.94L8.5 2.5l-.94 2.06-2.06.94zm10 10l.94 2.06.94-2.06 2.06-.94-2.06-.94-.94-2.06-.94 2.06-2.06.94z\"/><path d=\"M17.41 7.96l-1.37-1.37c-.4-.4-.92-.59-1.43-.59-.52 0-1.04.2-1.43.59L10.3 9.45l-7.72 7.72c-.78.78-.78 2.05 0 2.83L4 21.41c.39.39.9.59 1.41.59.51 0 1.02-.2 1.41-.59l7.78-7.78 2.81-2.81c.8-.78.8-2.07 0-2.86zM5.41 20L4 18.59l7.72-7.72 1.47 1.35L5.41 20z\"/>\n",
              "  </svg>\n",
              "      </button>\n",
              "      \n",
              "  <style>\n",
              "    .colab-df-container {\n",
              "      display:flex;\n",
              "      flex-wrap:wrap;\n",
              "      gap: 12px;\n",
              "    }\n",
              "\n",
              "    .colab-df-convert {\n",
              "      background-color: #E8F0FE;\n",
              "      border: none;\n",
              "      border-radius: 50%;\n",
              "      cursor: pointer;\n",
              "      display: none;\n",
              "      fill: #1967D2;\n",
              "      height: 32px;\n",
              "      padding: 0 0 0 0;\n",
              "      width: 32px;\n",
              "    }\n",
              "\n",
              "    .colab-df-convert:hover {\n",
              "      background-color: #E2EBFA;\n",
              "      box-shadow: 0px 1px 2px rgba(60, 64, 67, 0.3), 0px 1px 3px 1px rgba(60, 64, 67, 0.15);\n",
              "      fill: #174EA6;\n",
              "    }\n",
              "\n",
              "    [theme=dark] .colab-df-convert {\n",
              "      background-color: #3B4455;\n",
              "      fill: #D2E3FC;\n",
              "    }\n",
              "\n",
              "    [theme=dark] .colab-df-convert:hover {\n",
              "      background-color: #434B5C;\n",
              "      box-shadow: 0px 1px 3px 1px rgba(0, 0, 0, 0.15);\n",
              "      filter: drop-shadow(0px 1px 2px rgba(0, 0, 0, 0.3));\n",
              "      fill: #FFFFFF;\n",
              "    }\n",
              "  </style>\n",
              "\n",
              "      <script>\n",
              "        const buttonEl =\n",
              "          document.querySelector('#df-220bb1f9-4125-453b-9fc4-3efa1c495a5e button.colab-df-convert');\n",
              "        buttonEl.style.display =\n",
              "          google.colab.kernel.accessAllowed ? 'block' : 'none';\n",
              "\n",
              "        async function convertToInteractive(key) {\n",
              "          const element = document.querySelector('#df-220bb1f9-4125-453b-9fc4-3efa1c495a5e');\n",
              "          const dataTable =\n",
              "            await google.colab.kernel.invokeFunction('convertToInteractive',\n",
              "                                                     [key], {});\n",
              "          if (!dataTable) return;\n",
              "\n",
              "          const docLinkHtml = 'Like what you see? Visit the ' +\n",
              "            '<a target=\"_blank\" href=https://colab.research.google.com/notebooks/data_table.ipynb>data table notebook</a>'\n",
              "            + ' to learn more about interactive tables.';\n",
              "          element.innerHTML = '';\n",
              "          dataTable['output_type'] = 'display_data';\n",
              "          await google.colab.output.renderOutput(dataTable, element);\n",
              "          const docLink = document.createElement('div');\n",
              "          docLink.innerHTML = docLinkHtml;\n",
              "          element.appendChild(docLink);\n",
              "        }\n",
              "      </script>\n",
              "    </div>\n",
              "  </div>\n",
              "  "
            ]
          },
          "metadata": {},
          "execution_count": 10
        }
      ]
    },
    {
      "cell_type": "code",
      "source": [
        "Precios_1 = pdr.DataReader(activos,inicio,fin).dropna()\n",
        "Precios_2 = pdr.DataReader(activos,inicio,fin,interval='1mo').dropna()\n",
        "Precios_3 = Precios1.resample('A').last()"
      ],
      "metadata": {
        "colab": {
          "base_uri": "https://localhost:8080/"
        },
        "id": "Kibqlw8Uw_Ye",
        "outputId": "c7e816ff-2187-4b01-9e8b-1ddebaf177fd"
      },
      "execution_count": 11,
      "outputs": [
        {
          "output_type": "stream",
          "name": "stdout",
          "text": [
            "[*********************100%***********************]  2 of 2 completed\n",
            "[*********************100%***********************]  2 of 2 completed\n"
          ]
        }
      ]
    },
    {
      "cell_type": "code",
      "source": [
        "# Volatilidades anualizadas diarias\n",
        "lnHL = np.log(Precios_1[\"High\"]/Precios_1[\"Low\"]).dropna()\n",
        "sigmaPark_d = ((1/(4*np.log(2)))*lnHL**2)**0.5\n",
        "sigmaPark_d.plot();"
      ],
      "metadata": {
        "colab": {
          "base_uri": "https://localhost:8080/",
          "height": 277
        },
        "id": "vwpYGolLJEBB",
        "outputId": "e6d5854e-78aa-41b4-c81f-454e4924af73"
      },
      "execution_count": 12,
      "outputs": [
        {
          "output_type": "display_data",
          "data": {
            "text/plain": [
              "<Figure size 432x288 with 1 Axes>"
            ],
            "image/png": "[encoded data removed]"
          },
          "metadata": {
            "needs_background": "light"
          }
        }
      ]
    },
    {
      "cell_type": "code",
      "source": [
        "# Volatilidades anualizadas mensuales\n",
        "(sigmaPark_d.mean())*np.sqrt(30)"
      ],
      "metadata": {
        "colab": {
          "base_uri": "https://localhost:8080/"
        },
        "id": "m1Qkwi1GupRy",
        "outputId": "484e8d3d-11d2-44df-8740-13c62286357b"
      },
      "execution_count": 13,
      "outputs": [
        {
          "output_type": "execute_result",
          "data": {
            "text/plain": [
              "KO      0.049342\n",
              "NFLX    0.114987\n",
              "dtype: float64"
            ]
          },
          "metadata": {},
          "execution_count": 13
        }
      ]
    },
    {
      "cell_type": "code",
      "source": [
        "# Volatilidades anualizadas\n",
        "(sigmaPark_d.mean())*np.sqrt(252)"
      ],
      "metadata": {
        "colab": {
          "base_uri": "https://localhost:8080/"
        },
        "id": "0dO7hGVMupqT",
        "outputId": "32f261b0-d566-45fe-ac75-d42a49cd4f77"
      },
      "execution_count": 14,
      "outputs": [
        {
          "output_type": "execute_result",
          "data": {
            "text/plain": [
              "KO      0.143007\n",
              "NFLX    0.333264\n",
              "dtype: float64"
            ]
          },
          "metadata": {},
          "execution_count": 14
        }
      ]
    },
    {
      "cell_type": "code",
      "source": [
        "# Estadistica descriptiva\n",
        "Precios1.describe()"
      ],
      "metadata": {
        "colab": {
          "base_uri": "https://localhost:8080/",
          "height": 300
        },
        "id": "8QzNdGz-yZS1",
        "outputId": "daea6939-0175-4a26-8e74-3b10538a3f36"
      },
      "execution_count": 15,
      "outputs": [
        {
          "output_type": "execute_result",
          "data": {
            "text/plain": [
              "               KO        NFLX\n",
              "count  503.000000  503.000000\n",
              "mean    56.164325  421.700417\n",
              "std      5.238569  157.378186\n",
              "min     45.337097  166.369995\n",
              "25%     52.027998  251.980003\n",
              "50%     55.886574  493.329987\n",
              "75%     60.802338  546.619995\n",
              "max     64.799706  691.690002"
            ],
            "text/html": [
              "\n",
              "  <div id=\"df-b261174c-fbfd-4397-b43a-0b459c59f376\">\n",
              "    <div class=\"colab-df-container\">\n",
              "      <div>\n",
              "<style scoped>\n",
              "    .dataframe tbody tr th:only-of-type {\n",
              "        vertical-align: middle;\n",
              "    }\n",
              "\n",
              "    .dataframe tbody tr th {\n",
              "        vertical-align: top;\n",
              "    }\n",
              "\n",
              "    .dataframe thead th {\n",
              "        text-align: right;\n",
              "    }\n",
              "</style>\n",
              "<table border=\"1\" class=\"dataframe\">\n",
              "  <thead>\n",
              "    <tr style=\"text-align: right;\">\n",
              "      <th></th>\n",
              "      <th>KO</th>\n",
              "      <th>NFLX</th>\n",
              "    </tr>\n",
              "  </thead>\n",
              "  <tbody>\n",
              "    <tr>\n",
              "      <th>count</th>\n",
              "      <td>503.000000</td>\n",
              "      <td>503.000000</td>\n",
              "    </tr>\n",
              "    <tr>\n",
              "      <th>mean</th>\n",
              "      <td>56.164325</td>\n",
              "      <td>421.700417</td>\n",
              "    </tr>\n",
              "    <tr>\n",
              "      <th>std</th>\n",
              "      <td>5.238569</td>\n",
              "      <td>157.378186</td>\n",
              "    </tr>\n",
              "    <tr>\n",
              "      <th>min</th>\n",
              "      <td>45.337097</td>\n",
              "      <td>166.369995</td>\n",
              "    </tr>\n",
              "    <tr>\n",
              "      <th>25%</th>\n",
              "      <td>52.027998</td>\n",
              "      <td>251.980003</td>\n",
              "    </tr>\n",
              "    <tr>\n",
              "      <th>50%</th>\n",
              "      <td>55.886574</td>\n",
              "      <td>493.329987</td>\n",
              "    </tr>\n",
              "    <tr>\n",
              "      <th>75%</th>\n",
              "      <td>60.802338</td>\n",
              "      <td>546.619995</td>\n",
              "    </tr>\n",
              "    <tr>\n",
              "      <th>max</th>\n",
              "      <td>64.799706</td>\n",
              "      <td>691.690002</td>\n",
              "    </tr>\n",
              "  </tbody>\n",
              "</table>\n",
              "</div>\n",
              "      <button class=\"colab-df-convert\" onclick=\"convertToInteractive('df-b261174c-fbfd-4397-b43a-0b459c59f376')\"\n",
              "              title=\"Convert this dataframe to an interactive table.\"\n",
              "              style=\"display:none;\">\n",
              "        \n",
              "  <svg xmlns=\"http://www.w3.org/2000/svg\" height=\"24px\"viewBox=\"0 0 24 24\"\n",
              "       width=\"24px\">\n",
              "    <path d=\"M0 0h24v24H0V0z\" fill=\"none\"/>\n",
              "    <path d=\"M18.56 5.44l.94 2.06.94-2.06 2.06-.94-2.06-.94-.94-2.06-.94 2.06-2.06.94zm-11 1L8.5 8.5l.94-2.06 2.06-.94-2.06-.94L8.5 2.5l-.94 2.06-2.06.94zm10 10l.94 2.06.94-2.06 2.06-.94-2.06-.94-.94-2.06-.94 2.06-2.06.94z\"/><path d=\"M17.41 7.96l-1.37-1.37c-.4-.4-.92-.59-1.43-.59-.52 0-1.04.2-1.43.59L10.3 9.45l-7.72 7.72c-.78.78-.78 2.05 0 2.83L4 21.41c.39.39.9.59 1.41.59.51 0 1.02-.2 1.41-.59l7.78-7.78 2.81-2.81c.8-.78.8-2.07 0-2.86zM5.41 20L4 18.59l7.72-7.72 1.47 1.35L5.41 20z\"/>\n",
              "  </svg>\n",
              "      </button>\n",
              "      \n",
              "  <style>\n",
              "    .colab-df-container {\n",
              "      display:flex;\n",
              "      flex-wrap:wrap;\n",
              "      gap: 12px;\n",
              "    }\n",
              "\n",
              "    .colab-df-convert {\n",
              "      background-color: #E8F0FE;\n",
              "      border: none;\n",
              "      border-radius: 50%;\n",
              "      cursor: pointer;\n",
              "      display: none;\n",
              "      fill: #1967D2;\n",
              "      height: 32px;\n",
              "      padding: 0 0 0 0;\n",
              "      width: 32px;\n",
              "    }\n",
              "\n",
              "    .colab-df-convert:hover {\n",
              "      background-color: #E2EBFA;\n",
              "      box-shadow: 0px 1px 2px rgba(60, 64, 67, 0.3), 0px 1px 3px 1px rgba(60, 64, 67, 0.15);\n",
              "      fill: #174EA6;\n",
              "    }\n",
              "\n",
              "    [theme=dark] .colab-df-convert {\n",
              "      background-color: #3B4455;\n",
              "      fill: #D2E3FC;\n",
              "    }\n",
              "\n",
              "    [theme=dark] .colab-df-convert:hover {\n",
              "      background-color: #434B5C;\n",
              "      box-shadow: 0px 1px 3px 1px rgba(0, 0, 0, 0.15);\n",
              "      filter: drop-shadow(0px 1px 2px rgba(0, 0, 0, 0.3));\n",
              "      fill: #FFFFFF;\n",
              "    }\n",
              "  </style>\n",
              "\n",
              "      <script>\n",
              "        const buttonEl =\n",
              "          document.querySelector('#df-b261174c-fbfd-4397-b43a-0b459c59f376 button.colab-df-convert');\n",
              "        buttonEl.style.display =\n",
              "          google.colab.kernel.accessAllowed ? 'block' : 'none';\n",
              "\n",
              "        async function convertToInteractive(key) {\n",
              "          const element = document.querySelector('#df-b261174c-fbfd-4397-b43a-0b459c59f376');\n",
              "          const dataTable =\n",
              "            await google.colab.kernel.invokeFunction('convertToInteractive',\n",
              "                                                     [key], {});\n",
              "          if (!dataTable) return;\n",
              "\n",
              "          const docLinkHtml = 'Like what you see? Visit the ' +\n",
              "            '<a target=\"_blank\" href=https://colab.research.google.com/notebooks/data_table.ipynb>data table notebook</a>'\n",
              "            + ' to learn more about interactive tables.';\n",
              "          element.innerHTML = '';\n",
              "          dataTable['output_type'] = 'display_data';\n",
              "          await google.colab.output.renderOutput(dataTable, element);\n",
              "          const docLink = document.createElement('div');\n",
              "          docLink.innerHTML = docLinkHtml;\n",
              "          element.appendChild(docLink);\n",
              "        }\n",
              "      </script>\n",
              "    </div>\n",
              "  </div>\n",
              "  "
            ]
          },
          "metadata": {},
          "execution_count": 15
        }
      ]
    },
    {
      "cell_type": "code",
      "source": [
        "Precios1.kurt()"
      ],
      "metadata": {
        "colab": {
          "base_uri": "https://localhost:8080/"
        },
        "id": "iwjn8FoEy1W4",
        "outputId": "022a2132-fc4f-4218-b40c-77c3e265f259"
      },
      "execution_count": 16,
      "outputs": [
        {
          "output_type": "execute_result",
          "data": {
            "text/plain": [
              "KO     -1.093044\n",
              "NFLX   -1.398017\n",
              "dtype: float64"
            ]
          },
          "metadata": {},
          "execution_count": 16
        }
      ]
    },
    {
      "cell_type": "code",
      "source": [
        "Precios1.skew()"
      ],
      "metadata": {
        "colab": {
          "base_uri": "https://localhost:8080/"
        },
        "id": "P6eR7PcOy4AB",
        "outputId": "89e24fb2-95b7-4bb1-c8b0-b88c87387b74"
      },
      "execution_count": 17,
      "outputs": [
        {
          "output_type": "execute_result",
          "data": {
            "text/plain": [
              "KO     -0.150630\n",
              "NFLX   -0.178405\n",
              "dtype: float64"
            ]
          },
          "metadata": {},
          "execution_count": 17
        }
      ]
    },
    {
      "cell_type": "code",
      "source": [
        "# Distribución empírica\n",
        "sns.kdeplot(r_log_diarios['KO']);"
      ],
      "metadata": {
        "colab": {
          "base_uri": "https://localhost:8080/",
          "height": 279
        },
        "id": "vtCzbjn1zK-H",
        "outputId": "f2ac01f7-5328-4e73-d61f-558bad46d7de"
      },
      "execution_count": 18,
      "outputs": [
        {
          "output_type": "display_data",
          "data": {
            "text/plain": [
              "<Figure size 432x288 with 1 Axes>"
            ],
            "image/png": "[encoded data removed]"
          },
          "metadata": {
            "needs_background": "light"
          }
        }
      ]
    },
    {
      "cell_type": "code",
      "source": [
        "# Distribución empírica\n",
        "sns.kdeplot(r_log_diarios['NFLX']);"
      ],
      "metadata": {
        "colab": {
          "base_uri": "https://localhost:8080/",
          "height": 279
        },
        "id": "9eyDWjcUj2f-",
        "outputId": "4cc9832d-4815-42bc-8210-ac81f11ef381"
      },
      "execution_count": 19,
      "outputs": [
        {
          "output_type": "display_data",
          "data": {
            "text/plain": [
              "<Figure size 432x288 with 1 Axes>"
            ],
            "image/png": "[encoded data removed]"
          },
          "metadata": {
            "needs_background": "light"
          }
        }
      ]
    },
    {
      "cell_type": "code",
      "source": [
        "# Distribución teórica normal\n",
        "sns.histplot(r_log_diarios, kde=True);"
      ],
      "metadata": {
        "colab": {
          "base_uri": "https://localhost:8080/",
          "height": 265
        },
        "id": "fNQBTqP9zFVB",
        "outputId": "f6455cee-6af5-4f25-e731-c9ba76422251"
      },
      "execution_count": 20,
      "outputs": [
        {
          "output_type": "display_data",
          "data": {
            "text/plain": [
              "<Figure size 432x288 with 1 Axes>"
            ],
            "image/png": "[encoded data removed]"
          },
          "metadata": {
            "needs_background": "light"
          }
        }
      ]
    },
    {
      "cell_type": "code",
      "source": [
        "# Matriz de correlación de Pearson\n",
        "r_log_diarios['KO'].corr(r_log_diarios['NFLX'],method=\"pearson\")"
      ],
      "metadata": {
        "colab": {
          "base_uri": "https://localhost:8080/"
        },
        "id": "L_kOQ6dQkdMa",
        "outputId": "2a147370-7b47-47cf-ecfe-d469e311e50c"
      },
      "execution_count": 21,
      "outputs": [
        {
          "output_type": "execute_result",
          "data": {
            "text/plain": [
              "0.1554692082603899"
            ]
          },
          "metadata": {},
          "execution_count": 21
        }
      ]
    },
    {
      "cell_type": "code",
      "source": [
        "# Matriz de correlación de rango de Kendall\n",
        "r_log_diarios['KO'].corr(r_log_diarios['NFLX'], method='kendall')"
      ],
      "metadata": {
        "colab": {
          "base_uri": "https://localhost:8080/"
        },
        "id": "628xUrWqkkln",
        "outputId": "f95949c0-2880-4596-ba86-e5e3eb4c34ce"
      },
      "execution_count": 22,
      "outputs": [
        {
          "output_type": "execute_result",
          "data": {
            "text/plain": [
              "0.12076293931332314"
            ]
          },
          "metadata": {},
          "execution_count": 22
        }
      ]
    },
    {
      "cell_type": "code",
      "source": [
        "# Matriz de correlación de Spearman\n",
        "r_log_diarios['KO'].corr(r_log_diarios['NFLX'], method='spearman')"
      ],
      "metadata": {
        "colab": {
          "base_uri": "https://localhost:8080/"
        },
        "id": "W0Q6R68SklEz",
        "outputId": "d1c19fff-3516-4c5b-e360-ea6cfa23f9f4"
      },
      "execution_count": 23,
      "outputs": [
        {
          "output_type": "execute_result",
          "data": {
            "text/plain": [
              "0.17500845002766408"
            ]
          },
          "metadata": {},
          "execution_count": 23
        }
      ]
    },
    {
      "cell_type": "markdown",
      "source": [
        "Punto N° 2"
      ],
      "metadata": {
        "id": "iSTUscBSOllj"
      }
    },
    {
      "cell_type": "code",
      "source": [
        "A = 'AMZN','AXP','IBM','INTC','NKE','JPM','PFE','META','V','BA'\n",
        "comienza = '2017-12-1'\n",
        "termina = '2022-12-1'\n",
        "periodicity = '1mo'\n",
        "P = yf.download(A,start=comienza,end=termina,interval=periodicity)['Adj Close']"
      ],
      "metadata": {
        "id": "84SfuTtaOylj",
        "colab": {
          "base_uri": "https://localhost:8080/"
        },
        "outputId": "b429a729-9792-41cd-85c4-1cfd8907486f"
      },
      "execution_count": 24,
      "outputs": [
        {
          "output_type": "stream",
          "name": "stdout",
          "text": [
            "[*********************100%***********************]  10 of 10 completed\n"
          ]
        }
      ]
    },
    {
      "cell_type": "code",
      "source": [
        "retorno_mes = np.log(P).diff().dropna()\n",
        "retorno_año = retorno_mes.mean()*12\n",
        "retorno_año"
      ],
      "metadata": {
        "colab": {
          "base_uri": "https://localhost:8080/"
        },
        "id": "J3JFn9Cm8O9s",
        "outputId": "af87c7e3-8b80-4252-ae22-a1b020573b65"
      },
      "execution_count": 68,
      "outputs": [
        {
          "output_type": "execute_result",
          "data": {
            "text/plain": [
              "AMZN    0.101976\n",
              "AXP     0.108394\n",
              "BA     -0.091893\n",
              "IBM     0.049406\n",
              "INTC   -0.061713\n",
              "JPM     0.081607\n",
              "META   -0.081674\n",
              "NKE     0.124347\n",
              "PFE     0.112068\n",
              "V       0.137110\n",
              "dtype: float64"
            ]
          },
          "metadata": {},
          "execution_count": 68
        }
      ]
    },
    {
      "cell_type": "code",
      "source": [
        "Volatilidades = retorno_mes.std()*np.sqrt(12)\n",
        "Volatilidades"
      ],
      "metadata": {
        "colab": {
          "base_uri": "https://localhost:8080/"
        },
        "id": "jG_RO_ZQ8X_m",
        "outputId": "37376352-28b2-4bd5-d51a-23ac09ed3e62"
      },
      "execution_count": 72,
      "outputs": [
        {
          "output_type": "execute_result",
          "data": {
            "text/plain": [
              "AMZN    0.334547\n",
              "AXP     0.292563\n",
              "BA      0.491073\n",
              "IBM     0.272234\n",
              "INTC    0.285439\n",
              "JPM     0.279903\n",
              "META    0.405640\n",
              "NKE     0.293928\n",
              "PFE     0.254328\n",
              "V       0.236238\n",
              "dtype: float64"
            ]
          },
          "metadata": {},
          "execution_count": 72
        }
      ]
    },
    {
      "cell_type": "code",
      "source": [
        "# Organizar los activos segun su retorno\n",
        "Datos = pd.concat([retorno_año,Volatilidades], axis=1)\n",
        "Datos.columns = [\"Retorno\",\"Volatilidad\"]\n",
        "Datos.sort_values(\"Retorno\",ascending=False)"
      ],
      "metadata": {
        "id": "OzI_WASuz08C",
        "colab": {
          "base_uri": "https://localhost:8080/",
          "height": 363
        },
        "outputId": "c6283e5a-222b-4edf-b062-2953add30a75"
      },
      "execution_count": 74,
      "outputs": [
        {
          "output_type": "execute_result",
          "data": {
            "text/plain": [
              "       Retorno  Volatilidad\n",
              "V     0.137110     0.236238\n",
              "NKE   0.124347     0.293928\n",
              "PFE   0.112068     0.254328\n",
              "AXP   0.108394     0.292563\n",
              "AMZN  0.101976     0.334547\n",
              "JPM   0.081607     0.279903\n",
              "IBM   0.049406     0.272234\n",
              "INTC -0.061713     0.285439\n",
              "META -0.081674     0.405640\n",
              "BA   -0.091893     0.491073"
            ],
            "text/html": [
              "\n",
              "  <div id=\"df-f7d12dca-01b9-42dc-9095-ff52e4d740a8\">\n",
              "    <div class=\"colab-df-container\">\n",
              "      <div>\n",
              "<style scoped>\n",
              "    .dataframe tbody tr th:only-of-type {\n",
              "        vertical-align: middle;\n",
              "    }\n",
              "\n",
              "    .dataframe tbody tr th {\n",
              "        vertical-align: top;\n",
              "    }\n",
              "\n",
              "    .dataframe thead th {\n",
              "        text-align: right;\n",
              "    }\n",
              "</style>\n",
              "<table border=\"1\" class=\"dataframe\">\n",
              "  <thead>\n",
              "    <tr style=\"text-align: right;\">\n",
              "      <th></th>\n",
              "      <th>Retorno</th>\n",
              "      <th>Volatilidad</th>\n",
              "    </tr>\n",
              "  </thead>\n",
              "  <tbody>\n",
              "    <tr>\n",
              "      <th>V</th>\n",
              "      <td>0.137110</td>\n",
              "      <td>0.236238</td>\n",
              "    </tr>\n",
              "    <tr>\n",
              "      <th>NKE</th>\n",
              "      <td>0.124347</td>\n",
              "      <td>0.293928</td>\n",
              "    </tr>\n",
              "    <tr>\n",
              "      <th>PFE</th>\n",
              "      <td>0.112068</td>\n",
              "      <td>0.254328</td>\n",
              "    </tr>\n",
              "    <tr>\n",
              "      <th>AXP</th>\n",
              "      <td>0.108394</td>\n",
              "      <td>0.292563</td>\n",
              "    </tr>\n",
              "    <tr>\n",
              "      <th>AMZN</th>\n",
              "      <td>0.101976</td>\n",
              "      <td>0.334547</td>\n",
              "    </tr>\n",
              "    <tr>\n",
              "      <th>JPM</th>\n",
              "      <td>0.081607</td>\n",
              "      <td>0.279903</td>\n",
              "    </tr>\n",
              "    <tr>\n",
              "      <th>IBM</th>\n",
              "      <td>0.049406</td>\n",
              "      <td>0.272234</td>\n",
              "    </tr>\n",
              "    <tr>\n",
              "      <th>INTC</th>\n",
              "      <td>-0.061713</td>\n",
              "      <td>0.285439</td>\n",
              "    </tr>\n",
              "    <tr>\n",
              "      <th>META</th>\n",
              "      <td>-0.081674</td>\n",
              "      <td>0.405640</td>\n",
              "    </tr>\n",
              "    <tr>\n",
              "      <th>BA</th>\n",
              "      <td>-0.091893</td>\n",
              "      <td>0.491073</td>\n",
              "    </tr>\n",
              "  </tbody>\n",
              "</table>\n",
              "</div>\n",
              "      <button class=\"colab-df-convert\" onclick=\"convertToInteractive('df-f7d12dca-01b9-42dc-9095-ff52e4d740a8')\"\n",
              "              title=\"Convert this dataframe to an interactive table.\"\n",
              "              style=\"display:none;\">\n",
              "        \n",
              "  <svg xmlns=\"http://www.w3.org/2000/svg\" height=\"24px\"viewBox=\"0 0 24 24\"\n",
              "       width=\"24px\">\n",
              "    <path d=\"M0 0h24v24H0V0z\" fill=\"none\"/>\n",
              "    <path d=\"M18.56 5.44l.94 2.06.94-2.06 2.06-.94-2.06-.94-.94-2.06-.94 2.06-2.06.94zm-11 1L8.5 8.5l.94-2.06 2.06-.94-2.06-.94L8.5 2.5l-.94 2.06-2.06.94zm10 10l.94 2.06.94-2.06 2.06-.94-2.06-.94-.94-2.06-.94 2.06-2.06.94z\"/><path d=\"M17.41 7.96l-1.37-1.37c-.4-.4-.92-.59-1.43-.59-.52 0-1.04.2-1.43.59L10.3 9.45l-7.72 7.72c-.78.78-.78 2.05 0 2.83L4 21.41c.39.39.9.59 1.41.59.51 0 1.02-.2 1.41-.59l7.78-7.78 2.81-2.81c.8-.78.8-2.07 0-2.86zM5.41 20L4 18.59l7.72-7.72 1.47 1.35L5.41 20z\"/>\n",
              "  </svg>\n",
              "      </button>\n",
              "      \n",
              "  <style>\n",
              "    .colab-df-container {\n",
              "      display:flex;\n",
              "      flex-wrap:wrap;\n",
              "      gap: 12px;\n",
              "    }\n",
              "\n",
              "    .colab-df-convert {\n",
              "      background-color: #E8F0FE;\n",
              "      border: none;\n",
              "      border-radius: 50%;\n",
              "      cursor: pointer;\n",
              "      display: none;\n",
              "      fill: #1967D2;\n",
              "      height: 32px;\n",
              "      padding: 0 0 0 0;\n",
              "      width: 32px;\n",
              "    }\n",
              "\n",
              "    .colab-df-convert:hover {\n",
              "      background-color: #E2EBFA;\n",
              "      box-shadow: 0px 1px 2px rgba(60, 64, 67, 0.3), 0px 1px 3px 1px rgba(60, 64, 67, 0.15);\n",
              "      fill: #174EA6;\n",
              "    }\n",
              "\n",
              "    [theme=dark] .colab-df-convert {\n",
              "      background-color: #3B4455;\n",
              "      fill: #D2E3FC;\n",
              "    }\n",
              "\n",
              "    [theme=dark] .colab-df-convert:hover {\n",
              "      background-color: #434B5C;\n",
              "      box-shadow: 0px 1px 3px 1px rgba(0, 0, 0, 0.15);\n",
              "      filter: drop-shadow(0px 1px 2px rgba(0, 0, 0, 0.3));\n",
              "      fill: #FFFFFF;\n",
              "    }\n",
              "  </style>\n",
              "\n",
              "      <script>\n",
              "        const buttonEl =\n",
              "          document.querySelector('#df-f7d12dca-01b9-42dc-9095-ff52e4d740a8 button.colab-df-convert');\n",
              "        buttonEl.style.display =\n",
              "          google.colab.kernel.accessAllowed ? 'block' : 'none';\n",
              "\n",
              "        async function convertToInteractive(key) {\n",
              "          const element = document.querySelector('#df-f7d12dca-01b9-42dc-9095-ff52e4d740a8');\n",
              "          const dataTable =\n",
              "            await google.colab.kernel.invokeFunction('convertToInteractive',\n",
              "                                                     [key], {});\n",
              "          if (!dataTable) return;\n",
              "\n",
              "          const docLinkHtml = 'Like what you see? Visit the ' +\n",
              "            '<a target=\"_blank\" href=https://colab.research.google.com/notebooks/data_table.ipynb>data table notebook</a>'\n",
              "            + ' to learn more about interactive tables.';\n",
              "          element.innerHTML = '';\n",
              "          dataTable['output_type'] = 'display_data';\n",
              "          await google.colab.output.renderOutput(dataTable, element);\n",
              "          const docLink = document.createElement('div');\n",
              "          docLink.innerHTML = docLinkHtml;\n",
              "          element.appendChild(docLink);\n",
              "        }\n",
              "      </script>\n",
              "    </div>\n",
              "  </div>\n",
              "  "
            ]
          },
          "metadata": {},
          "execution_count": 74
        }
      ]
    },
    {
      "cell_type": "markdown",
      "source": [
        "Punto N°3"
      ],
      "metadata": {
        "id": "51OnMadOPIBy"
      }
    },
    {
      "cell_type": "code",
      "source": [
        "date1 = '2011-12-1'\n",
        "date2 = '2022-12-31'\n",
        "mes = '1mo'\n",
        "Activo = yf.download('^RUT',start=date1,end=date2,interval=mes)['Adj Close']\n",
        "Symbols = yf.download('^RUT',start=date1,end=date2)['Adj Close']\n",
        "retorn = np.log(Symbols/Symbols.shift(1)).dropna()\n",
        "returns = np.log(Activo/Activo.shift(1)).dropna()\n",
        "Actives = yf.download('^RUT',start=date1,end=date2,interval=mes)"
      ],
      "metadata": {
        "id": "ov3BuxfXPqk2",
        "colab": {
          "base_uri": "https://localhost:8080/"
        },
        "outputId": "8c03103e-7195-4eaa-b50b-babf314b6f8d"
      },
      "execution_count": null,
      "outputs": [
        {
          "output_type": "stream",
          "name": "stdout",
          "text": [
            "[*********************100%***********************]  1 of 1 completed\n",
            "[*********************100%***********************]  1 of 1 completed\n",
            "[*********************100%***********************]  1 of 1 completed\n"
          ]
        }
      ]
    },
    {
      "cell_type": "code",
      "source": [
        "# Volatilidad desviación estándar mensual\n",
        "Sigma_std_1 = returns.std()\n",
        "Sigma_std_1"
      ],
      "metadata": {
        "id": "EijTHUmeRUue",
        "colab": {
          "base_uri": "https://localhost:8080/"
        },
        "outputId": "aede08ee-5744-41ac-f854-523f5c8c9c15"
      },
      "execution_count": null,
      "outputs": [
        {
          "output_type": "execute_result",
          "data": {
            "text/plain": [
              "0.05474479591479422"
            ]
          },
          "metadata": {},
          "execution_count": 63
        }
      ]
    },
    {
      "cell_type": "code",
      "source": [
        "# Volatilidad desviación estándar anualizada\n",
        "Sigma_std = returns.rolling(window=12).std().dropna()\n",
        "Sigma_std.plot();"
      ],
      "metadata": {
        "colab": {
          "base_uri": "https://localhost:8080/",
          "height": 279
        },
        "id": "4NS_M9iJQc5D",
        "outputId": "7a08728a-6d0a-4e72-b016-8937bb345479"
      },
      "execution_count": null,
      "outputs": [
        {
          "output_type": "display_data",
          "data": {
            "text/plain": [
              "<Figure size 432x288 with 1 Axes>"
            ],
            "image/png": "[encoded data removed]"
          },
          "metadata": {
            "needs_background": "light"
          }
        }
      ]
    },
    {
      "cell_type": "code",
      "source": [
        "# Volatilidad Parkinson\n",
        "# Mensual\n",
        "lnHL = np.log(Actives[\"High\"]/Actives[\"Low\"]).dropna()\n",
        "sigmaPark_d = ((1/(4*np.log(2)))*lnHL**2)**0.5\n",
        "sigmaPark_d.plot();"
      ],
      "metadata": {
        "colab": {
          "base_uri": "https://localhost:8080/",
          "height": 279
        },
        "id": "vKe2C8tzv87_",
        "outputId": "899977fc-b2fb-4172-f65e-d7a384f2b017"
      },
      "execution_count": null,
      "outputs": [
        {
          "output_type": "display_data",
          "data": {
            "text/plain": [
              "<Figure size 432x288 with 1 Axes>"
            ],
            "image/png": "[encoded data removed]"
          },
          "metadata": {
            "needs_background": "light"
          }
        }
      ]
    },
    {
      "cell_type": "code",
      "source": [
        "# Volatilidad anulizada de Parkinson\n",
        "(sigmaPark_d.mean())*np.sqrt(12)"
      ],
      "metadata": {
        "colab": {
          "base_uri": "https://localhost:8080/"
        },
        "id": "2gnWE3l4wwwI",
        "outputId": "62a0d822-f0a9-40c5-8ce3-464c445360bc"
      },
      "execution_count": null,
      "outputs": [
        {
          "output_type": "execute_result",
          "data": {
            "text/plain": [
              "0.1767113126308943"
            ]
          },
          "metadata": {},
          "execution_count": 66
        }
      ]
    },
    {
      "cell_type": "code",
      "source": [
        "# Volatilidad mensual Garman-Klass\n",
        "lnHL = np.log(Actives[\"High\"]/Actives[\"Low\"]).dropna()\n",
        "lnCO = np.log(Actives[\"Close\"]/Actives[\"Open\"]).dropna()\n",
        "sigmaGK_d = (0.5*lnHL**2-(2*np.log(2)-1)*lnCO**2)**0.5\n",
        "sigmaGK_d.plot();"
      ],
      "metadata": {
        "colab": {
          "base_uri": "https://localhost:8080/",
          "height": 280
        },
        "id": "STdJUjIn2peB",
        "outputId": "d00229a6-0c8a-4834-912f-abca37c54c10"
      },
      "execution_count": null,
      "outputs": [
        {
          "output_type": "display_data",
          "data": {
            "text/plain": [
              "<Figure size 432x288 with 1 Axes>"
            ],
            "image/png": "[encoded data removed]"
          },
          "metadata": {
            "needs_background": "light"
          }
        }
      ]
    },
    {
      "cell_type": "code",
      "source": [
        "#volatilidad anualizada Garman-Klass\n",
        "(sigmaGK_d.mean())*np.sqrt(12)"
      ],
      "metadata": {
        "colab": {
          "base_uri": "https://localhost:8080/"
        },
        "id": "QTNFkOSj3mRW",
        "outputId": "64a4184b-5792-407b-98da-e32841b301e4"
      },
      "execution_count": null,
      "outputs": [
        {
          "output_type": "execute_result",
          "data": {
            "text/plain": [
              "0.1815139038491142"
            ]
          },
          "metadata": {},
          "execution_count": 68
        }
      ]
    },
    {
      "cell_type": "code",
      "source": [
        "# Volatilidad mensual EWMA\n",
        "def ewma_vol(returns,Lambda):\n",
        "  k = len(returns)                \n",
        "  e = np.arange(k-1,-1,-1)           \n",
        "  alpha = Lambda**e                  \n",
        "  s_var = (returns**2)*alpha        \n",
        "  var = s_var.sum()*(1-Lambda)         \n",
        "  vol = np.sqrt(var)                   \n",
        "  return(vol)\n",
        "vol_ewma = ewma_vol(returns,Lambda=0.94)\n",
        "vol_ewma"
      ],
      "metadata": {
        "colab": {
          "base_uri": "https://localhost:8080/"
        },
        "id": "FYcjzJDG3utw",
        "outputId": "0b6d32e8-6b7b-4db5-8b4d-8f3984277dd9"
      },
      "execution_count": null,
      "outputs": [
        {
          "output_type": "execute_result",
          "data": {
            "text/plain": [
              "0.06830769009655513"
            ]
          },
          "metadata": {},
          "execution_count": 69
        }
      ]
    },
    {
      "cell_type": "code",
      "source": [
        "# Volatilidad anual EWMA\n",
        "vol_ewma*np.sqrt(12)"
      ],
      "metadata": {
        "colab": {
          "base_uri": "https://localhost:8080/"
        },
        "id": "5Y6rKrdc4PU0",
        "outputId": "7fa27de4-642d-4ad0-d58d-f4b8fd5803b7"
      },
      "execution_count": null,
      "outputs": [
        {
          "output_type": "execute_result",
          "data": {
            "text/plain": [
              "0.23662477958980582"
            ]
          },
          "metadata": {},
          "execution_count": 70
        }
      ]
    }
  ]
}